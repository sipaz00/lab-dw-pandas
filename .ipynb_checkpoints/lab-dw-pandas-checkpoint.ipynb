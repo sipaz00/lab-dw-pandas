{
 "cells": [
  {
   "cell_type": "markdown",
   "id": "25d7736c-ba17-4aff-b6bb-66eba20fbf4e",
   "metadata": {},
   "source": [
    "# Lab | Pandas"
   ]
  },
  {
   "cell_type": "markdown",
   "id": "d1973e9e-8be6-4039-b70e-d73ee0d94c99",
   "metadata": {},
   "source": [
    "In this lab, we will be working with the customer data from an insurance company, which can be found in the CSV file located at the following link: https://raw.githubusercontent.com/data-bootcamp-v4/data/main/file1.csv\n",
    "\n",
    "The data includes information such as customer ID, state, gender, education, income, and other variables that can be used to perform various analyses.\n",
    "\n",
    "Throughout the lab, we will be using the pandas library in Python to manipulate and analyze the data. Pandas is a powerful library that provides various data manipulation and analysis tools, including the ability to load and manipulate data from a variety of sources, including CSV files."
   ]
  },
  {
   "cell_type": "markdown",
   "id": "8045146f-f4f7-44d9-8cd9-130d6400c73a",
   "metadata": {},
   "source": [
    "### Data Description\n",
    "\n",
    "- Customer - Customer ID\n",
    "\n",
    "- ST - State where customers live\n",
    "\n",
    "- Gender - Gender of the customer\n",
    "\n",
    "- Education - Background education of customers \n",
    "\n",
    "- Customer Lifetime Value - Customer lifetime value(CLV) is the total revenue the client will derive from their entire relationship with a customer. In other words, is the predicted or calculated value of a customer over their entire duration as a policyholder with the insurance company. It is an estimation of the net profit that the insurance company expects to generate from a customer throughout their relationship with the company. Customer Lifetime Value takes into account factors such as the duration of the customer's policy, premium payments, claim history, renewal likelihood, and potential additional services or products the customer may purchase. It helps insurers assess the long-term profitability and value associated with retaining a particular customer.\n",
    "\n",
    "- Income - Customers income\n",
    "\n",
    "- Monthly Premium Auto - Amount of money the customer pays on a monthly basis as a premium for their auto insurance coverage. It represents the recurring cost that the insured person must pay to maintain their insurance policy and receive coverage for potential damages, accidents, or other covered events related to their vehicle.\n",
    "\n",
    "- Number of Open Complaints - Number of complaints the customer opened\n",
    "\n",
    "- Policy Type - There are three type of policies in car insurance (Corporate Auto, Personal Auto, and Special Auto)\n",
    "\n",
    "- Vehicle Class - Type of vehicle classes that customers have Two-Door Car, Four-Door Car SUV, Luxury SUV, Sports Car, and Luxury Car\n",
    "\n",
    "- Total Claim Amount - the sum of all claims made by the customer. It represents the total monetary value of all approved claims for incidents such as accidents, theft, vandalism, or other covered events.\n"
   ]
  },
  {
   "cell_type": "markdown",
   "id": "3a72419b-20fc-4905-817a-8c83abc59de6",
   "metadata": {},
   "source": [
    "External Resources: https://towardsdatascience.com/filtering-data-frames-in-pandas-b570b1f834b9"
   ]
  },
  {
   "cell_type": "markdown",
   "id": "8f8ece17-e919-4e23-96c0-c7c59778436a",
   "metadata": {},
   "source": [
    "## Challenge 1: Understanding the data\n",
    "\n",
    "In this challenge, you will use pandas to explore a given dataset. Your task is to gain a deep understanding of the data by analyzing its characteristics, dimensions, and statistical properties."
   ]
  },
  {
   "cell_type": "markdown",
   "id": "91437bd5-59a6-49c0-8150-ef0e6e6eb253",
   "metadata": {},
   "source": [
    "- Identify the dimensions of the dataset by determining the number of rows and columns it contains.\n",
    "- Determine the data types of each column and evaluate whether they are appropriate for the nature of the variable. You should also provide suggestions for fixing any incorrect data types.\n",
    "- Identify the number of unique values for each column and determine which columns appear to be categorical. You should also describe the unique values of each categorical column and the range of values for numerical columns, and give your insights.\n",
    "- Compute summary statistics such as mean, median, mode, standard deviation, and quartiles to understand the central tendency and distribution of the data for numerical columns. You should also provide your conclusions based on these summary statistics.\n",
    "- Compute summary statistics for categorical columns and providing your conclusions based on these statistics."
   ]
  },
  {
   "cell_type": "code",
   "execution_count": 1,
   "id": "dd4e8cd8-a6f6-486c-a5c4-1745b0c035f4",
   "metadata": {},
   "outputs": [],
   "source": [
    "# Your code here\n",
    "import pandas as pd"
   ]
  },
  {
   "cell_type": "code",
   "execution_count": 2,
   "id": "c6841fec-3f36-45db-ac27-9af48931c621",
   "metadata": {},
   "outputs": [],
   "source": [
    "df = pd.read_csv(\"https://raw.githubusercontent.com/data-bootcamp-v4/data/main/file1.csv\") "
   ]
  },
  {
   "cell_type": "code",
   "execution_count": 3,
   "id": "fedfca82-fdad-4f0e-9708-0ed6ce12ae92",
   "metadata": {},
   "outputs": [
    {
     "data": {
      "text/html": [
       "<div>\n",
       "<style scoped>\n",
       "    .dataframe tbody tr th:only-of-type {\n",
       "        vertical-align: middle;\n",
       "    }\n",
       "\n",
       "    .dataframe tbody tr th {\n",
       "        vertical-align: top;\n",
       "    }\n",
       "\n",
       "    .dataframe thead th {\n",
       "        text-align: right;\n",
       "    }\n",
       "</style>\n",
       "<table border=\"1\" class=\"dataframe\">\n",
       "  <thead>\n",
       "    <tr style=\"text-align: right;\">\n",
       "      <th></th>\n",
       "      <th>Customer</th>\n",
       "      <th>ST</th>\n",
       "      <th>GENDER</th>\n",
       "      <th>Education</th>\n",
       "      <th>Customer Lifetime Value</th>\n",
       "      <th>Income</th>\n",
       "      <th>Monthly Premium Auto</th>\n",
       "      <th>Number of Open Complaints</th>\n",
       "      <th>Policy Type</th>\n",
       "      <th>Vehicle Class</th>\n",
       "      <th>Total Claim Amount</th>\n",
       "    </tr>\n",
       "  </thead>\n",
       "  <tbody>\n",
       "    <tr>\n",
       "      <th>0</th>\n",
       "      <td>RB50392</td>\n",
       "      <td>Washington</td>\n",
       "      <td>NaN</td>\n",
       "      <td>Master</td>\n",
       "      <td>NaN</td>\n",
       "      <td>0.0</td>\n",
       "      <td>1000.0</td>\n",
       "      <td>1/0/00</td>\n",
       "      <td>Personal Auto</td>\n",
       "      <td>Four-Door Car</td>\n",
       "      <td>2.704934</td>\n",
       "    </tr>\n",
       "    <tr>\n",
       "      <th>1</th>\n",
       "      <td>QZ44356</td>\n",
       "      <td>Arizona</td>\n",
       "      <td>F</td>\n",
       "      <td>Bachelor</td>\n",
       "      <td>697953.59%</td>\n",
       "      <td>0.0</td>\n",
       "      <td>94.0</td>\n",
       "      <td>1/0/00</td>\n",
       "      <td>Personal Auto</td>\n",
       "      <td>Four-Door Car</td>\n",
       "      <td>1131.464935</td>\n",
       "    </tr>\n",
       "    <tr>\n",
       "      <th>2</th>\n",
       "      <td>AI49188</td>\n",
       "      <td>Nevada</td>\n",
       "      <td>F</td>\n",
       "      <td>Bachelor</td>\n",
       "      <td>1288743.17%</td>\n",
       "      <td>48767.0</td>\n",
       "      <td>108.0</td>\n",
       "      <td>1/0/00</td>\n",
       "      <td>Personal Auto</td>\n",
       "      <td>Two-Door Car</td>\n",
       "      <td>566.472247</td>\n",
       "    </tr>\n",
       "    <tr>\n",
       "      <th>3</th>\n",
       "      <td>WW63253</td>\n",
       "      <td>California</td>\n",
       "      <td>M</td>\n",
       "      <td>Bachelor</td>\n",
       "      <td>764586.18%</td>\n",
       "      <td>0.0</td>\n",
       "      <td>106.0</td>\n",
       "      <td>1/0/00</td>\n",
       "      <td>Corporate Auto</td>\n",
       "      <td>SUV</td>\n",
       "      <td>529.881344</td>\n",
       "    </tr>\n",
       "    <tr>\n",
       "      <th>4</th>\n",
       "      <td>GA49547</td>\n",
       "      <td>Washington</td>\n",
       "      <td>M</td>\n",
       "      <td>High School or Below</td>\n",
       "      <td>536307.65%</td>\n",
       "      <td>36357.0</td>\n",
       "      <td>68.0</td>\n",
       "      <td>1/0/00</td>\n",
       "      <td>Personal Auto</td>\n",
       "      <td>Four-Door Car</td>\n",
       "      <td>17.269323</td>\n",
       "    </tr>\n",
       "  </tbody>\n",
       "</table>\n",
       "</div>"
      ],
      "text/plain": [
       "  Customer          ST GENDER             Education Customer Lifetime Value  \\\n",
       "0  RB50392  Washington    NaN                Master                     NaN   \n",
       "1  QZ44356     Arizona      F              Bachelor              697953.59%   \n",
       "2  AI49188      Nevada      F              Bachelor             1288743.17%   \n",
       "3  WW63253  California      M              Bachelor              764586.18%   \n",
       "4  GA49547  Washington      M  High School or Below              536307.65%   \n",
       "\n",
       "    Income  Monthly Premium Auto Number of Open Complaints     Policy Type  \\\n",
       "0      0.0                1000.0                    1/0/00   Personal Auto   \n",
       "1      0.0                  94.0                    1/0/00   Personal Auto   \n",
       "2  48767.0                 108.0                    1/0/00   Personal Auto   \n",
       "3      0.0                 106.0                    1/0/00  Corporate Auto   \n",
       "4  36357.0                  68.0                    1/0/00   Personal Auto   \n",
       "\n",
       "   Vehicle Class  Total Claim Amount  \n",
       "0  Four-Door Car            2.704934  \n",
       "1  Four-Door Car         1131.464935  \n",
       "2   Two-Door Car          566.472247  \n",
       "3            SUV          529.881344  \n",
       "4  Four-Door Car           17.269323  "
      ]
     },
     "execution_count": 3,
     "metadata": {},
     "output_type": "execute_result"
    }
   ],
   "source": [
    "df.head(5)"
   ]
  },
  {
   "cell_type": "code",
   "execution_count": 4,
   "id": "52cb437b-494b-44eb-8de2-8f77b8a401df",
   "metadata": {},
   "outputs": [
    {
     "data": {
      "text/plain": [
       "Customer                      object\n",
       "ST                            object\n",
       "GENDER                        object\n",
       "Education                     object\n",
       "Customer Lifetime Value       object\n",
       "Income                       float64\n",
       "Monthly Premium Auto         float64\n",
       "Number of Open Complaints     object\n",
       "Policy Type                   object\n",
       "Vehicle Class                 object\n",
       "Total Claim Amount           float64\n",
       "dtype: object"
      ]
     },
     "execution_count": 4,
     "metadata": {},
     "output_type": "execute_result"
    }
   ],
   "source": [
    "#determine data types of each column\n",
    "df.dtypes"
   ]
  },
  {
   "cell_type": "code",
   "execution_count": 5,
   "id": "589f04ba-dbfc-4e99-8822-0da68f78923d",
   "metadata": {},
   "outputs": [
    {
     "data": {
      "text/plain": [
       "(4008, 11)"
      ]
     },
     "execution_count": 5,
     "metadata": {},
     "output_type": "execute_result"
    }
   ],
   "source": [
    "#dimensions of the dataset\n",
    "df.shape"
   ]
  },
  {
   "cell_type": "code",
   "execution_count": null,
   "id": "2f54b890-55c2-48bc-83d0-65ae1c546746",
   "metadata": {},
   "outputs": [],
   "source": [
    "#¿¿how to evaluate if the data types are appropiate for the nature of the variable??"
   ]
  },
  {
   "cell_type": "code",
   "execution_count": 6,
   "id": "13a67f7f-b09d-4adf-a780-9b8edccee2fb",
   "metadata": {},
   "outputs": [
    {
     "data": {
      "text/plain": [
       "Customer                     1071\n",
       "ST                              8\n",
       "GENDER                          5\n",
       "Education                       6\n",
       "Customer Lifetime Value      1027\n",
       "Income                        774\n",
       "Monthly Premium Auto          132\n",
       "Number of Open Complaints       6\n",
       "Policy Type                     3\n",
       "Vehicle Class                   6\n",
       "Total Claim Amount            761\n",
       "dtype: int64"
      ]
     },
     "execution_count": 6,
     "metadata": {},
     "output_type": "execute_result"
    }
   ],
   "source": [
    "df.nunique()"
   ]
  },
  {
   "cell_type": "code",
   "execution_count": 7,
   "id": "deffbf10-15ae-40c3-ac9b-9e701cb4742e",
   "metadata": {},
   "outputs": [
    {
     "data": {
      "text/html": [
       "<div>\n",
       "<style scoped>\n",
       "    .dataframe tbody tr th:only-of-type {\n",
       "        vertical-align: middle;\n",
       "    }\n",
       "\n",
       "    .dataframe tbody tr th {\n",
       "        vertical-align: top;\n",
       "    }\n",
       "\n",
       "    .dataframe thead th {\n",
       "        text-align: right;\n",
       "    }\n",
       "</style>\n",
       "<table border=\"1\" class=\"dataframe\">\n",
       "  <thead>\n",
       "    <tr style=\"text-align: right;\">\n",
       "      <th></th>\n",
       "      <th>Customer</th>\n",
       "      <th>ST</th>\n",
       "      <th>GENDER</th>\n",
       "      <th>Education</th>\n",
       "      <th>Customer Lifetime Value</th>\n",
       "      <th>Income</th>\n",
       "      <th>Monthly Premium Auto</th>\n",
       "      <th>Number of Open Complaints</th>\n",
       "      <th>Policy Type</th>\n",
       "      <th>Vehicle Class</th>\n",
       "      <th>Total Claim Amount</th>\n",
       "    </tr>\n",
       "  </thead>\n",
       "  <tbody>\n",
       "    <tr>\n",
       "      <th>2838</th>\n",
       "      <td>NaN</td>\n",
       "      <td>NaN</td>\n",
       "      <td>NaN</td>\n",
       "      <td>NaN</td>\n",
       "      <td>NaN</td>\n",
       "      <td>NaN</td>\n",
       "      <td>NaN</td>\n",
       "      <td>NaN</td>\n",
       "      <td>NaN</td>\n",
       "      <td>NaN</td>\n",
       "      <td>NaN</td>\n",
       "    </tr>\n",
       "    <tr>\n",
       "      <th>3818</th>\n",
       "      <td>NaN</td>\n",
       "      <td>NaN</td>\n",
       "      <td>NaN</td>\n",
       "      <td>NaN</td>\n",
       "      <td>NaN</td>\n",
       "      <td>NaN</td>\n",
       "      <td>NaN</td>\n",
       "      <td>NaN</td>\n",
       "      <td>NaN</td>\n",
       "      <td>NaN</td>\n",
       "      <td>NaN</td>\n",
       "    </tr>\n",
       "    <tr>\n",
       "      <th>2939</th>\n",
       "      <td>NaN</td>\n",
       "      <td>NaN</td>\n",
       "      <td>NaN</td>\n",
       "      <td>NaN</td>\n",
       "      <td>NaN</td>\n",
       "      <td>NaN</td>\n",
       "      <td>NaN</td>\n",
       "      <td>NaN</td>\n",
       "      <td>NaN</td>\n",
       "      <td>NaN</td>\n",
       "      <td>NaN</td>\n",
       "    </tr>\n",
       "    <tr>\n",
       "      <th>1744</th>\n",
       "      <td>NaN</td>\n",
       "      <td>NaN</td>\n",
       "      <td>NaN</td>\n",
       "      <td>NaN</td>\n",
       "      <td>NaN</td>\n",
       "      <td>NaN</td>\n",
       "      <td>NaN</td>\n",
       "      <td>NaN</td>\n",
       "      <td>NaN</td>\n",
       "      <td>NaN</td>\n",
       "      <td>NaN</td>\n",
       "    </tr>\n",
       "    <tr>\n",
       "      <th>3546</th>\n",
       "      <td>NaN</td>\n",
       "      <td>NaN</td>\n",
       "      <td>NaN</td>\n",
       "      <td>NaN</td>\n",
       "      <td>NaN</td>\n",
       "      <td>NaN</td>\n",
       "      <td>NaN</td>\n",
       "      <td>NaN</td>\n",
       "      <td>NaN</td>\n",
       "      <td>NaN</td>\n",
       "      <td>NaN</td>\n",
       "    </tr>\n",
       "    <tr>\n",
       "      <th>3229</th>\n",
       "      <td>NaN</td>\n",
       "      <td>NaN</td>\n",
       "      <td>NaN</td>\n",
       "      <td>NaN</td>\n",
       "      <td>NaN</td>\n",
       "      <td>NaN</td>\n",
       "      <td>NaN</td>\n",
       "      <td>NaN</td>\n",
       "      <td>NaN</td>\n",
       "      <td>NaN</td>\n",
       "      <td>NaN</td>\n",
       "    </tr>\n",
       "    <tr>\n",
       "      <th>3309</th>\n",
       "      <td>NaN</td>\n",
       "      <td>NaN</td>\n",
       "      <td>NaN</td>\n",
       "      <td>NaN</td>\n",
       "      <td>NaN</td>\n",
       "      <td>NaN</td>\n",
       "      <td>NaN</td>\n",
       "      <td>NaN</td>\n",
       "      <td>NaN</td>\n",
       "      <td>NaN</td>\n",
       "      <td>NaN</td>\n",
       "    </tr>\n",
       "    <tr>\n",
       "      <th>171</th>\n",
       "      <td>LP45550</td>\n",
       "      <td>Oregon</td>\n",
       "      <td>F</td>\n",
       "      <td>Doctor</td>\n",
       "      <td>1536384.72%</td>\n",
       "      <td>15897.0</td>\n",
       "      <td>101.0</td>\n",
       "      <td>1/0/00</td>\n",
       "      <td>Personal Auto</td>\n",
       "      <td>Four-Door Car</td>\n",
       "      <td>303.148399</td>\n",
       "    </tr>\n",
       "    <tr>\n",
       "      <th>1959</th>\n",
       "      <td>NaN</td>\n",
       "      <td>NaN</td>\n",
       "      <td>NaN</td>\n",
       "      <td>NaN</td>\n",
       "      <td>NaN</td>\n",
       "      <td>NaN</td>\n",
       "      <td>NaN</td>\n",
       "      <td>NaN</td>\n",
       "      <td>NaN</td>\n",
       "      <td>NaN</td>\n",
       "      <td>NaN</td>\n",
       "    </tr>\n",
       "    <tr>\n",
       "      <th>180</th>\n",
       "      <td>IU25463</td>\n",
       "      <td>California</td>\n",
       "      <td>F</td>\n",
       "      <td>Bachelor</td>\n",
       "      <td>1225260.18%</td>\n",
       "      <td>0.0</td>\n",
       "      <td>115.0</td>\n",
       "      <td>1/1/00</td>\n",
       "      <td>Personal Auto</td>\n",
       "      <td>Four-Door Car</td>\n",
       "      <td>552.000000</td>\n",
       "    </tr>\n",
       "  </tbody>\n",
       "</table>\n",
       "</div>"
      ],
      "text/plain": [
       "     Customer          ST GENDER Education Customer Lifetime Value   Income  \\\n",
       "2838      NaN         NaN    NaN       NaN                     NaN      NaN   \n",
       "3818      NaN         NaN    NaN       NaN                     NaN      NaN   \n",
       "2939      NaN         NaN    NaN       NaN                     NaN      NaN   \n",
       "1744      NaN         NaN    NaN       NaN                     NaN      NaN   \n",
       "3546      NaN         NaN    NaN       NaN                     NaN      NaN   \n",
       "3229      NaN         NaN    NaN       NaN                     NaN      NaN   \n",
       "3309      NaN         NaN    NaN       NaN                     NaN      NaN   \n",
       "171   LP45550      Oregon      F    Doctor             1536384.72%  15897.0   \n",
       "1959      NaN         NaN    NaN       NaN                     NaN      NaN   \n",
       "180   IU25463  California      F  Bachelor             1225260.18%      0.0   \n",
       "\n",
       "      Monthly Premium Auto Number of Open Complaints    Policy Type  \\\n",
       "2838                   NaN                       NaN            NaN   \n",
       "3818                   NaN                       NaN            NaN   \n",
       "2939                   NaN                       NaN            NaN   \n",
       "1744                   NaN                       NaN            NaN   \n",
       "3546                   NaN                       NaN            NaN   \n",
       "3229                   NaN                       NaN            NaN   \n",
       "3309                   NaN                       NaN            NaN   \n",
       "171                  101.0                    1/0/00  Personal Auto   \n",
       "1959                   NaN                       NaN            NaN   \n",
       "180                  115.0                    1/1/00  Personal Auto   \n",
       "\n",
       "      Vehicle Class  Total Claim Amount  \n",
       "2838            NaN                 NaN  \n",
       "3818            NaN                 NaN  \n",
       "2939            NaN                 NaN  \n",
       "1744            NaN                 NaN  \n",
       "3546            NaN                 NaN  \n",
       "3229            NaN                 NaN  \n",
       "3309            NaN                 NaN  \n",
       "171   Four-Door Car          303.148399  \n",
       "1959            NaN                 NaN  \n",
       "180   Four-Door Car          552.000000  "
      ]
     },
     "execution_count": 7,
     "metadata": {},
     "output_type": "execute_result"
    }
   ],
   "source": [
    "df.sample(10)"
   ]
  },
  {
   "cell_type": "code",
   "execution_count": 9,
   "id": "27f23792-b9b8-40b5-9cff-f47f219f7d64",
   "metadata": {},
   "outputs": [
    {
     "data": {
      "text/html": [
       "<div>\n",
       "<style scoped>\n",
       "    .dataframe tbody tr th:only-of-type {\n",
       "        vertical-align: middle;\n",
       "    }\n",
       "\n",
       "    .dataframe tbody tr th {\n",
       "        vertical-align: top;\n",
       "    }\n",
       "\n",
       "    .dataframe thead th {\n",
       "        text-align: right;\n",
       "    }\n",
       "</style>\n",
       "<table border=\"1\" class=\"dataframe\">\n",
       "  <thead>\n",
       "    <tr style=\"text-align: right;\">\n",
       "      <th></th>\n",
       "      <th>customer</th>\n",
       "      <th>st</th>\n",
       "      <th>gender</th>\n",
       "      <th>education</th>\n",
       "      <th>customer_lifetime_value</th>\n",
       "      <th>income</th>\n",
       "      <th>monthly_premium_auto</th>\n",
       "      <th>number_of_open_complaints</th>\n",
       "      <th>policy_type</th>\n",
       "      <th>vehicle_class</th>\n",
       "      <th>total_claim_amount</th>\n",
       "    </tr>\n",
       "  </thead>\n",
       "  <tbody>\n",
       "  </tbody>\n",
       "</table>\n",
       "</div>"
      ],
      "text/plain": [
       "Empty DataFrame\n",
       "Columns: [customer, st, gender, education, customer_lifetime_value, income, monthly_premium_auto, number_of_open_complaints, policy_type, vehicle_class, total_claim_amount]\n",
       "Index: []"
      ]
     },
     "execution_count": 9,
     "metadata": {},
     "output_type": "execute_result"
    }
   ],
   "source": [
    "# snake_case\n",
    "df.columns = df.columns.str.lower().str.replace(\" \", \"_\")\n",
    "df.head(0)"
   ]
  },
  {
   "cell_type": "code",
   "execution_count": 10,
   "id": "e4363d10-8ab2-47af-a0cf-591bbc2d9949",
   "metadata": {},
   "outputs": [],
   "source": [
    "#suggestions to fix incorrect data types\n",
    "# 1. Round to 2 decimals: 'Total Claim Amount'\n",
    "df['total_claim_amount'] = df['total_claim_amount'].apply(lambda x: round(x, 2)) "
   ]
  },
  {
   "cell_type": "code",
   "execution_count": null,
   "id": "13cd2bf3-a847-4cb4-9aba-8ebd8a428704",
   "metadata": {},
   "outputs": [],
   "source": [
    "##numerical columns & range of values"
   ]
  },
  {
   "cell_type": "code",
   "execution_count": 11,
   "id": "dbb1a685-55be-4cd8-9933-24393b77489d",
   "metadata": {},
   "outputs": [
    {
     "data": {
      "text/html": [
       "<div>\n",
       "<style scoped>\n",
       "    .dataframe tbody tr th:only-of-type {\n",
       "        vertical-align: middle;\n",
       "    }\n",
       "\n",
       "    .dataframe tbody tr th {\n",
       "        vertical-align: top;\n",
       "    }\n",
       "\n",
       "    .dataframe thead th {\n",
       "        text-align: right;\n",
       "    }\n",
       "</style>\n",
       "<table border=\"1\" class=\"dataframe\">\n",
       "  <thead>\n",
       "    <tr style=\"text-align: right;\">\n",
       "      <th></th>\n",
       "      <th>income</th>\n",
       "      <th>monthly_premium_auto</th>\n",
       "      <th>total_claim_amount</th>\n",
       "    </tr>\n",
       "  </thead>\n",
       "  <tbody>\n",
       "    <tr>\n",
       "      <th>0</th>\n",
       "      <td>0.0</td>\n",
       "      <td>1000.0</td>\n",
       "      <td>2.70</td>\n",
       "    </tr>\n",
       "    <tr>\n",
       "      <th>1</th>\n",
       "      <td>0.0</td>\n",
       "      <td>94.0</td>\n",
       "      <td>1131.46</td>\n",
       "    </tr>\n",
       "    <tr>\n",
       "      <th>2</th>\n",
       "      <td>48767.0</td>\n",
       "      <td>108.0</td>\n",
       "      <td>566.47</td>\n",
       "    </tr>\n",
       "    <tr>\n",
       "      <th>3</th>\n",
       "      <td>0.0</td>\n",
       "      <td>106.0</td>\n",
       "      <td>529.88</td>\n",
       "    </tr>\n",
       "    <tr>\n",
       "      <th>4</th>\n",
       "      <td>36357.0</td>\n",
       "      <td>68.0</td>\n",
       "      <td>17.27</td>\n",
       "    </tr>\n",
       "    <tr>\n",
       "      <th>...</th>\n",
       "      <td>...</td>\n",
       "      <td>...</td>\n",
       "      <td>...</td>\n",
       "    </tr>\n",
       "    <tr>\n",
       "      <th>4003</th>\n",
       "      <td>NaN</td>\n",
       "      <td>NaN</td>\n",
       "      <td>NaN</td>\n",
       "    </tr>\n",
       "    <tr>\n",
       "      <th>4004</th>\n",
       "      <td>NaN</td>\n",
       "      <td>NaN</td>\n",
       "      <td>NaN</td>\n",
       "    </tr>\n",
       "    <tr>\n",
       "      <th>4005</th>\n",
       "      <td>NaN</td>\n",
       "      <td>NaN</td>\n",
       "      <td>NaN</td>\n",
       "    </tr>\n",
       "    <tr>\n",
       "      <th>4006</th>\n",
       "      <td>NaN</td>\n",
       "      <td>NaN</td>\n",
       "      <td>NaN</td>\n",
       "    </tr>\n",
       "    <tr>\n",
       "      <th>4007</th>\n",
       "      <td>NaN</td>\n",
       "      <td>NaN</td>\n",
       "      <td>NaN</td>\n",
       "    </tr>\n",
       "  </tbody>\n",
       "</table>\n",
       "<p>4008 rows × 3 columns</p>\n",
       "</div>"
      ],
      "text/plain": [
       "       income  monthly_premium_auto  total_claim_amount\n",
       "0         0.0                1000.0                2.70\n",
       "1         0.0                  94.0             1131.46\n",
       "2     48767.0                 108.0              566.47\n",
       "3         0.0                 106.0              529.88\n",
       "4     36357.0                  68.0               17.27\n",
       "...       ...                   ...                 ...\n",
       "4003      NaN                   NaN                 NaN\n",
       "4004      NaN                   NaN                 NaN\n",
       "4005      NaN                   NaN                 NaN\n",
       "4006      NaN                   NaN                 NaN\n",
       "4007      NaN                   NaN                 NaN\n",
       "\n",
       "[4008 rows x 3 columns]"
      ]
     },
     "execution_count": 11,
     "metadata": {},
     "output_type": "execute_result"
    }
   ],
   "source": [
    "num = df.select_dtypes(include = 'number')\n",
    "num"
   ]
  },
  {
   "cell_type": "code",
   "execution_count": 12,
   "id": "a991e075-4d3a-4e6f-a35c-ad1f16918622",
   "metadata": {},
   "outputs": [],
   "source": [
    "import numpy as np"
   ]
  },
  {
   "cell_type": "code",
   "execution_count": 13,
   "id": "4956ccf7-3f8a-44de-9244-1afd60e803fd",
   "metadata": {},
   "outputs": [
    {
     "data": {
      "text/plain": [
       "array([    0., 48767., 36357., 62902., 55350., 14072., 28812., 77026.,\n",
       "       99845., 83689., 24599., 25049., 28855., 51148., 66140., 57749.,\n",
       "       61040., 17870., 97541., 29723., 86584., 75690., 23158., 65999.,\n",
       "       37260., 68987., 42305., 65706., 53243., 50071., 60021., 43244.,\n",
       "       46896., 10105., 23218., 24804., 33190., 36014., 67163., 16701.,\n",
       "       46623., 64749., 16969., 11621., 17622., 11489., 66525., 33663.,\n",
       "       22547., 61486., 29879., 93011., 65186., 26840., 75644., 38984.,\n",
       "       71811., 20961., 41275., 61321., 51066., 34378., 43072., 25222.,\n",
       "       77552., 23091., 48269., 32720., 20396., 21513., 80744., 52822.,\n",
       "       69738., 17780., 18107., 57740., 32627., 65795., 60475., 41837.,\n",
       "       32303., 40531., 79898., 56398., 71600., 27804., 45506., 99428.,\n",
       "       20993., 37839., 92711., 74665., 61108., 46833., 88768., 28262.,\n",
       "       33555., 42780., 58850., 21880., 25251., 25317., 24188., 41611.,\n",
       "       28406., 69833., 80536., 88891., 97732., 61222., 50335., 82210.,\n",
       "       64495., 28859., 77330., 33060., 42557., 26372., 17514., 89270.,\n",
       "       29757., 51814., 24028., 28142., 52705., 54040., 22492., 21876.,\n",
       "       70699., 27501., 15897., 25141., 28358., 62530., 90972., 63110.,\n",
       "       29549., 39411., 21709., 67890., 84311., 99316., 54507., 64586.,\n",
       "       61709., 94656., 61085., 89284., 31686., 56855., 53703., 27679.,\n",
       "       23904., 65351., 64459., 32961., 71416., 68964., 78108., 10621.,\n",
       "       84910., 77493., 81097., 96610., 30110., 22081., 98473., 97431.,\n",
       "       93870., 50366., 34498., 16552., 26787., 43860., 21474., 18174.,\n",
       "       60920., 41520., 72208., 53863., 66446., 64997., 64460., 46618.,\n",
       "       49988., 16269., 72006., 44320., 19782., 63933., 28224., 21073.,\n",
       "       63243., 94827., 39161., 37534., 80210., 21708., 94731., 32375.,\n",
       "       16531., 32006., 81676., 71038., 20832., 52405., 26583., 25486.,\n",
       "       24065., 70435., 39679., 53565., 37574., 48259., 78532., 96163.,\n",
       "       72672., 99002., 79494., 35704., 26049., 70125., 52369., 41770.,\n",
       "       31911., 70051., 19683., 30916., 84302., 60145., 63774., 25134.,\n",
       "       37057., 58577., 85857., 70602., 33816., 89642., 60068., 50044.,\n",
       "       36650., 50653., 68931., 39266., 40864., 39035., 34923., 24506.,\n",
       "       52220., 53554., 34476., 68205., 53690., 74454., 29664., 72450.,\n",
       "       47272., 21585., 23827., 69906., 73196., 72217., 46131., 54514.,\n",
       "       96668., 78879., 29735., 23082., 53984., 52135., 17576., 29486.,\n",
       "       58557., 25632., 18768., 47945., 58778., 15192., 51859., 23422.,\n",
       "       21604., 79298., 76731., 38460., 48534., 30817., 48412., 68798.,\n",
       "       23712., 72196., 68197., 75248., 89879., 46998., 57099., 33897.,\n",
       "       59207., 40171., 80192., 74422., 34226., 65989., 30686., 20090.,\n",
       "       77094., 97413., 79189., 18577., 62777., 17483., 84394., 41440.,\n",
       "       98132., 88220., 58327., 25950., 65726., 84768., 36234., 58842.,\n",
       "       25629., 77311., 95697., 22254., 65974., 92079., 67752., 25398.,\n",
       "       33321., 38923., 20325., 13129., 49080., 42536., 29926., 21450.,\n",
       "       33345., 15752., 40169., 55411., 12459., 64620., 83140., 54422.,\n",
       "       68309., 56621., 38977., 83235., 32390., 66538., 23285., 76358.,\n",
       "       21104., 12964., 33288., 56168., 23105., 36218., 52275., 49665.,\n",
       "       32471., 62773., 76694., 55687., 36633., 77060., 92600., 64801.,\n",
       "       45257., 26854., 85840., 26463., 30689., 29590., 25965., 17269.,\n",
       "       90330., 18558., 46384., 42303., 71731., 26173., 24445., 72302.,\n",
       "       27208., 30855., 99960., 55873., 18052., 28937., 12829., 92163.,\n",
       "       17588., 41546., 70340., 34549., 93459., 86148., 27048., 73259.,\n",
       "       35482., 29462., 67801., 16042., 28056., 16495., 41163., 33799.,\n",
       "       90125., 87747., 35695., 90985., 66839., 79090., 24825., 26806.,\n",
       "       56835., 46135., 22862., 95854., 44897., 64455., 53265., 50450.,\n",
       "       54780., 67798., 21442., 27615., 50200., 73570., 70412., 36631.,\n",
       "       35895., 93018., 70014., 48875., 67969., 68665., 26802., 45345.,\n",
       "       89689., 32051., 81139., 63834., 37548., 72421., 83102., 28432.,\n",
       "       83707., 63259., 63860., 43836., 86132., 28519., 39102., 97298.,\n",
       "       41986., 17291., 37256., 96306., 14290., 37038., 90760., 77048.,\n",
       "       54480., 16244., 22436., 71592., 28728., 57449., 83318., 75217.,\n",
       "       55308., 36068., 48804., 55790., 70258., 47274., 44705., 70446.,\n",
       "       64348., 88997., 10312., 96263., 28919., 41869., 32808., 79780.,\n",
       "       91025., 33043., 69442., 47234., 86863., 25805., 43676., 59855.,\n",
       "       35296., 36576., 28513., 85448., 23791., 20597., 56940., 93210.,\n",
       "       48992., 53736., 25378., 37722., 69379., 33806., 94041., 74965.,\n",
       "       34095., 96045., 86355., 27824., 42995., 21235., 74585., 41833.,\n",
       "       23908., 61953., 73760., 23333., 20440., 27658., 50943., 19003.,\n",
       "       46703., 21733., 20811., 11904., 43490., 57340., 49088., 47761.,\n",
       "       61281., 25290., 24239., 82664., 83210., 38736., 55437., 68041.,\n",
       "       29066., 54337., 67616., 41082., 50631., 19592., 55761., 41449.,\n",
       "       62007., 21921., 42621., 63786., 82877., 10475., 21952., 49721.,\n",
       "       88340., 24589., 73769., 66670., 88854., 31266., 67267., 79270.,\n",
       "       36692., 44624., 19614., 83846., 51159., 83772., 88440., 25666.,\n",
       "       52926., 40001., 18024., 23220., 64125., 58042., 90034., 27972.,\n",
       "       50989., 11885., 89451., 78904., 70247., 32653., 93595., 90279.,\n",
       "       53310., 22234., 91375., 22250., 51179., 38667., 79487., 67763.,\n",
       "       71943., 53526., 35005., 24721., 48587., 76310., 73205., 51056.,\n",
       "       58414., 23940., 44216., 29305., 53882., 91757., 33906., 68158.,\n",
       "       42165., 68074., 84978., 71135., 64642., 46754., 70410., 66957.,\n",
       "       24213., 99790., 79751., 86122., 82297., 89057., 43259., 25064.,\n",
       "       25816., 41662., 96170., 46072., 37931., 35127., 45473., 93087.,\n",
       "       22398., 92983., 27689., 69654., 18608., 73168., 70930., 62262.,\n",
       "       91474., 61469., 16618., 48081., 67632., 34115., 23051., 23748.,\n",
       "       40589., 50809., 66676., 52339., 14973., 31546., 20836., 88592.,\n",
       "       66943., 81872., 22404., 21342., 34621., 62396., 97212., 49648.,\n",
       "       97984., 26308., 63528., 20225., 87620., 34990., 99934., 60804.,\n",
       "       94648., 24516., 61063., 15169., 55390., 27592., 61846., 83297.,\n",
       "       55897., 21297., 87560., 89398., 36843., 34946., 75680., 49532.,\n",
       "       10269., 49714., 77517., 81082., 72540., 61546., 44818., 79797.,\n",
       "       92717., 63568., 73935., 18846., 38893., 84824., 20068., 97245.,\n",
       "       51808., 71391., 23496., 55561., 23986., 22974., 61844., 27760.,\n",
       "       52266., 23599., 36088., 70534., 27398., 85296., 31063., 52367.,\n",
       "       58651., 84831., 70263., 45354., 28334., 38772., 41479., 23909.,\n",
       "       48328., 86689., 24204., 25943., 62375., 70200., 79027., 62935.,\n",
       "       26893., 47406., 27572., 32802., 62739., 90844., 44685., 42589.,\n",
       "       93383., 79583., 89129., 94389., 84106., 76717., 51978., 47325.,\n",
       "       86721., 24910., 43817., 59537., 54193., 86946., 12160., 33701.,\n",
       "       85702., 69417., 38644., 63209., 16061., 54230.,    nan])"
      ]
     },
     "execution_count": 13,
     "metadata": {},
     "output_type": "execute_result"
    }
   ],
   "source": [
    "df.income.unique()"
   ]
  },
  {
   "cell_type": "code",
   "execution_count": 14,
   "id": "c43b6b26-0ca7-44b2-b3b9-756eb156ee63",
   "metadata": {},
   "outputs": [
    {
     "data": {
      "text/plain": [
       "{'Mean': 39295.70121381886,\n",
       " 'Median': 36234.0,\n",
       " 'Mode': 0    0.0\n",
       " Name: income, dtype: float64}"
      ]
     },
     "execution_count": 14,
     "metadata": {},
     "output_type": "execute_result"
    }
   ],
   "source": [
    "central_tendency_income = {} #this I found in Stackoverflow\n",
    "central_tendency_income['Mean'] = df['income'].mean()\n",
    "central_tendency_income['Median'] = df['income'].median()\n",
    "central_tendency_income['Mode'] = df['income'].mode()#si\n",
    "\n",
    "central_tendency_income"
   ]
  },
  {
   "cell_type": "code",
   "execution_count": 15,
   "id": "d264acbb-8eb5-4c1a-9a7e-72f62a9dfc17",
   "metadata": {},
   "outputs": [
    {
     "data": {
      "text/plain": [
       "array([ 1000.,    94.,   108.,   106.,    68.,    69.,    67.,   101.,\n",
       "          71.,    93.,   110.,    70.,    64.,    72.,    74.,    79.,\n",
       "          73.,    61.,   111.,    80.,    63.,   237.,    65.,   130.,\n",
       "          62.,   117.,    91.,    90.,    66.,    99.,   103., 35354.,\n",
       "         172.,    92.,   104.,   113.,   124.,   105.,   100.,   112.,\n",
       "          97.,    95.,   102.,    96.,   186.,    77.,    76.,   119.,\n",
       "          87.,   109.,   107.,    88.,    85.,  6464.,   133.,    86.,\n",
       "          78.,    89.,   192.,   118.,   140.,   127.,   126.,    82.,\n",
       "         115.,   217.,   114.,   138.,    81.,   255.,   150.,   123.,\n",
       "         116.,   190.,    98.,   159.,    84.,    83.,   152.,   136.,\n",
       "         245.,   135.,  1005.,   225.,   132.,   153.,   121.,   139.,\n",
       "         154.,   161.,   156.,   171.,   244.,   183.,   176.,   230.,\n",
       "         129.,   177.,   181.,   196.,   131.,   276.,   253.,   137.,\n",
       "         180.,   203.,   147.,   165.,   198.,   125.,   193.,   128.,\n",
       "         271.,   142., 10202.,   206.,   182.,   189.,   160.,   295.,\n",
       "         210.,   134., 35353.,   239.,   188.,   256.,   173.,   285.,\n",
       "         148.,   141.,   197.,   199.,    nan])"
      ]
     },
     "execution_count": 15,
     "metadata": {},
     "output_type": "execute_result"
    }
   ],
   "source": [
    "df.monthly_premium_auto.unique()"
   ]
  },
  {
   "cell_type": "code",
   "execution_count": 16,
   "id": "ef4038be-d531-43e7-8850-71c018df424b",
   "metadata": {},
   "outputs": [
    {
     "data": {
      "text/plain": [
       "{'Mean': 193.234360410831,\n",
       " 'Median': 83.0,\n",
       " 'Mode': 0    65.0\n",
       " Name: monthly_premium_auto, dtype: float64}"
      ]
     },
     "execution_count": 16,
     "metadata": {},
     "output_type": "execute_result"
    }
   ],
   "source": [
    "central_tendency_monthly_premium_auto = {}\n",
    "central_tendency_monthly_premium_auto['Mean'] = df['monthly_premium_auto'].mean()\n",
    "central_tendency_monthly_premium_auto['Median'] = df['monthly_premium_auto'].median()\n",
    "central_tendency_monthly_premium_auto['Mode'] = df['monthly_premium_auto'].mode()\n",
    "\n",
    "central_tendency_monthly_premium_auto"
   ]
  },
  {
   "cell_type": "code",
   "execution_count": 17,
   "id": "861715b1-94b4-42a3-babe-18cfdfc7bfcb",
   "metadata": {},
   "outputs": [
    {
     "data": {
      "text/plain": [
       "array([2.70000e+00, 1.13146e+03, 5.66470e+02, 5.29880e+02, 1.72700e+01,\n",
       "       1.59380e+02, 3.21600e+02, 3.63030e+02, 5.11200e+02, 4.25530e+02,\n",
       "       4.82400e+02, 5.28000e+02, 4.72030e+02, 3.07140e+02, 4.29200e+01,\n",
       "       4.54250e+02, 6.47440e+02, 3.08980e+02, 4.84800e+02, 3.55200e+02,\n",
       "       2.03800e+01, 5.54380e+02, 4.39200e+02, 3.89190e+02, 7.99200e+02,\n",
       "       2.09900e+01, 5.32800e+02, 3.84000e+02, 3.22290e+02, 6.15930e+02,\n",
       "       3.08150e+02, 2.38200e+01, 1.54400e+01, 2.04480e+02, 5.61600e+02,\n",
       "       4.36800e+02, 6.48000e+02, 1.57400e+02, 4.84320e+02, 1.89200e+01,\n",
       "       8.82870e+02, 4.94400e+02, 3.17100e+01, 5.20000e-01, 5.79170e+02,\n",
       "       4.47790e+02, 5.29620e+02, 3.13020e+02, 5.93830e+02, 5.08800e+02,\n",
       "       1.73960e+02, 3.31900e+01, 8.31630e+02, 3.02570e+02, 7.04770e+02,\n",
       "       5.18400e+02, 3.12000e+02, 5.04000e+02, 8.63330e+02, 1.04330e+02,\n",
       "       6.76390e+02, 3.50400e+02, 5.37600e+02, 4.65260e+02, 4.56000e+02,\n",
       "       5.00250e+02, 2.81450e+02, 5.43000e+00, 3.07200e+02, 9.82400e+02,\n",
       "       4.67800e+02, 2.90300e+01, 4.11200e+01, 4.27630e+02, 2.58100e+01,\n",
       "       7.87990e+02, 4.89600e+02, 3.02400e+02, 4.75620e+02, 4.52200e+01,\n",
       "       4.60800e+02, 2.82150e+02, 3.64800e+02, 6.79830e+02, 4.60400e+01,\n",
       "       1.18800e+01, 3.50530e+02, 8.63390e+02, 4.92130e+02, 1.32590e+02,\n",
       "       2.97600e+02, 2.69910e+02, 3.80040e+02, 5.13600e+02, 4.25270e+02,\n",
       "       4.90100e+01, 9.36000e+02, 1.42060e+02, 4.51500e+01, 3.05700e+01,\n",
       "       2.71610e+02, 4.08000e+02, 4.61600e+01, 7.84800e+02, 3.16800e+02,\n",
       "       4.80500e+01, 6.38400e+02, 4.65630e+02, 3.68400e+02, 2.36900e+02,\n",
       "       4.94500e+01, 6.41100e+01, 3.26400e+02, 9.21600e+02, 1.01900e+02,\n",
       "       5.42400e+02, 1.43750e+02, 4.24080e+02, 5.04200e+01, 5.23200e+02,\n",
       "       1.13800e+02, 1.92880e+02, 8.28660e+02, 9.75110e+02, 5.38000e+01,\n",
       "       5.05300e+01, 2.89910e+02, 3.92600e+02, 7.21240e+02, 4.56520e+02,\n",
       "       1.08800e+03, 5.19600e+01, 2.51990e+02, 3.45600e+02, 9.92600e+01,\n",
       "       5.67300e+01, 5.75600e+01, 6.04800e+02, 8.31000e+00, 3.16600e+02,\n",
       "       5.63000e+01, 3.93600e+02, 7.01710e+02, 1.28710e+02, 6.79370e+02,\n",
       "       5.99900e+01, 5.66400e+02, 6.16500e+01, 5.54400e+02, 4.65410e+02,\n",
       "       4.96800e+02, 2.92800e+02, 2.56810e+02, 5.42320e+02, 3.03150e+02,\n",
       "       2.54400e+01, 8.40200e+01, 6.16900e+01, 2.32930e+02, 6.81800e+01,\n",
       "       7.10430e+02, 5.52000e+02, 1.12266e+03, 4.08370e+02, 7.92000e+02,\n",
       "       7.54360e+02, 7.02990e+02, 2.06840e+02, 2.75400e+02, 4.59740e+02,\n",
       "       3.36000e+02, 4.30990e+02, 1.83600e+03, 6.76300e+01, 8.44480e+02,\n",
       "       7.22490e+02, 5.90400e+02, 4.81030e+02, 1.12443e+03, 6.69680e+02,\n",
       "       1.28409e+03, 2.40260e+02, 9.12000e+02, 5.56800e+02, 1.15090e+02,\n",
       "       4.70400e+02, 3.83170e+02, 3.07960e+02, 5.20360e+02, 4.66440e+02,\n",
       "       4.51670e+02, 3.31200e+02, 4.28730e+02, 3.98400e+02, 3.69600e+02,\n",
       "       8.31750e+02, 1.56120e+02, 3.73430e+02, 3.95930e+02, 2.31200e+02,\n",
       "       2.89900e+02, 7.29600e+02, 1.05770e+02, 6.39460e+02, 3.83440e+02,\n",
       "       9.90900e+01, 5.66940e+02, 4.12800e+02, 3.88800e+02, 2.34541e+03,\n",
       "       7.73470e+02, 4.24880e+02, 3.64240e+02, 3.54730e+02, 2.84000e+02,\n",
       "       4.03200e+02, 2.05400e+01, 3.85120e+02, 1.40170e+02, 1.02880e+02,\n",
       "       5.68700e+01, 4.63160e+02, 2.05440e+02, 7.41600e+02, 5.63700e+01,\n",
       "       8.13600e+02, 7.95860e+02, 6.14400e+02, 7.24400e+01, 6.78800e+01,\n",
       "       4.02640e+02, 6.41390e+02, 3.42480e+02, 3.40800e+02, 4.12100e+02,\n",
       "       7.37000e+01, 3.74400e+02, 7.22020e+02, 2.59360e+02, 3.96300e+02,\n",
       "       3.58280e+02, 6.53390e+02, 1.21030e+02, 9.28100e+01, 1.59640e+02,\n",
       "       4.76160e+02, 7.27200e+02, 4.20800e+01, 2.00120e+02, 6.76940e+02,\n",
       "       7.66100e+01, 8.30620e+02, 5.80470e+02, 6.00400e+01, 4.75300e+01,\n",
       "       3.03870e+02, 1.00620e+02, 4.81340e+02, 1.10160e+03, 8.63200e+01,\n",
       "       6.67200e+02, 5.66000e+01, 2.62870e+02, 3.09580e+02, 3.65360e+02,\n",
       "       7.05600e+02, 9.52000e+00, 2.44560e+02, 6.39110e+02, 4.53600e+02,\n",
       "       5.54520e+02, 4.02450e+02, 3.27020e+02, 5.40000e+00, 1.31400e+02,\n",
       "       9.93800e+01, 8.56800e+02, 7.39200e+02, 8.42200e+01, 6.45500e+01,\n",
       "       4.41600e+02, 3.79100e+01, 2.02860e+02, 8.58100e+01, 9.11500e+01,\n",
       "       2.86230e+02, 1.15920e+03, 4.66570e+02, 1.25241e+03, 4.21480e+02,\n",
       "       4.30510e+02, 3.98500e+02, 7.65000e+00, 5.55100e+01, 3.51270e+02,\n",
       "       8.06400e+02, 6.47450e+02, 1.28440e+02, 3.02030e+02, 4.80000e+02,\n",
       "       1.00316e+03, 3.79200e+02, 2.44360e+02, 2.01460e+02, 9.15500e+01,\n",
       "       9.18300e+01, 7.07430e+02, 9.29200e+01, 3.76130e+02, 1.52180e+02,\n",
       "       1.76820e+02, 1.04450e+02, 9.41720e+02, 4.68000e+02, 9.40300e+01,\n",
       "       6.78600e+01, 5.39840e+02, 9.51900e+01, 9.53400e+01, 6.26400e+02,\n",
       "       1.15550e+02, 1.99400e+01, 7.99930e+02, 8.78400e+02, 4.44470e+02,\n",
       "       2.68820e+02, 1.01290e+02, 1.31760e+03, 6.91410e+02, 8.04810e+02,\n",
       "       1.09086e+03, 5.05900e+01, 1.51530e+02, 3.47080e+02, 2.71700e+02,\n",
       "       8.49600e+02, 1.10480e+02, 1.13530e+02, 5.95200e+02, 1.13610e+02,\n",
       "       1.33706e+03, 1.14270e+02, 1.25190e+02, 2.35220e+02, 3.95340e+02,\n",
       "       1.14800e+02, 7.72800e+02, 6.33600e+02, 1.68520e+02, 8.45650e+02,\n",
       "       1.15730e+02, 6.68290e+02, 7.00900e+02, 5.25600e+02, 2.53000e+01,\n",
       "       3.75330e+02, 4.18230e+02, 3.98240e+02, 9.38510e+02, 3.38620e+02,\n",
       "       3.39340e+02, 3.02820e+02, 6.19170e+02, 2.59560e+02, 1.79160e+02,\n",
       "       6.62400e+02, 7.55000e+01, 3.06980e+02, 8.40300e+01, 1.39490e+02,\n",
       "       6.07450e+02, 6.31120e+02, 6.28020e+02, 4.26660e+02, 9.14200e+01,\n",
       "       3.17840e+02, 1.18450e+02, 8.64600e+01, 3.62770e+02, 2.21860e+02,\n",
       "       9.80170e+02, 6.14680e+02, 1.45250e+02, 3.74240e+02, 6.19200e+02,\n",
       "       8.06700e+01, 1.32480e+03, 4.68570e+02, 8.42440e+02, 4.75200e+02,\n",
       "       1.17193e+03, 2.68470e+02, 1.38720e+02, 4.67250e+02, 4.67500e+02,\n",
       "       1.21440e+03, 1.92090e+02, 6.19970e+02, 1.00278e+03, 2.51770e+02,\n",
       "       8.66210e+02, 1.21092e+03, 5.99650e+02, 2.02772e+03, 7.28500e+01,\n",
       "       4.49820e+02, 2.59060e+02, 2.99360e+02, 6.99170e+02, 1.17960e+02,\n",
       "       5.45240e+02, 3.28230e+02, 6.65700e+01, 1.38240e+03, 1.21310e+02,\n",
       "       6.09600e+02, 1.25930e+02, 6.55410e+02, 6.73340e+02, 2.38100e+01,\n",
       "       4.51200e+02, 2.31920e+02, 6.64980e+02, 1.28650e+02, 4.64900e+01,\n",
       "       4.32000e+02, 7.80900e+01, 5.64470e+02, 2.89040e+02, 1.55940e+02,\n",
       "       3.26550e+02, 6.53660e+02, 1.03940e+02, 8.09530e+02, 5.80730e+02,\n",
       "       1.33740e+02, 2.38010e+02, 1.57767e+03, 1.35890e+02, 1.35260e+02,\n",
       "       5.71200e+02, 6.37060e+02, 7.59400e+01, 1.36290e+02, 6.75300e+01,\n",
       "       3.12920e+02, 1.66940e+02, 1.35380e+02, 1.77400e+01, 1.84000e+00,\n",
       "       1.97780e+02, 6.12100e+02, 1.19304e+03, 6.00000e+02, 1.36830e+02,\n",
       "       9.26400e+02, 3.92640e+02, 2.15230e+02, 1.60600e+02, 3.71800e+02,\n",
       "       4.43670e+02, 6.12300e+02, 2.90390e+02, 4.05530e+02, 2.08600e+02,\n",
       "       1.38130e+02, 3.01440e+02, 4.56470e+02, 1.52340e+02, 4.91760e+02,\n",
       "       4.85200e+01, 4.30380e+02, 2.46490e+02, 1.28970e+02, 1.85360e+02,\n",
       "       1.30080e+03, 9.07000e+00, 1.33480e+02, 1.41200e+02, 6.23220e+02,\n",
       "       4.27200e+02, 1.41730e+02, 2.11340e+02, 1.47080e+02, 8.62760e+02,\n",
       "       1.13370e+02, 9.43200e+02, 1.17670e+02, 2.25150e+02, 1.82430e+02,\n",
       "       1.48170e+02, 1.55570e+02, 2.12390e+02, 1.74040e+02, 4.86280e+02,\n",
       "       1.92000e+00, 2.62120e+02, 5.41700e+02, 3.27680e+02, 1.26557e+03,\n",
       "       6.30400e+01, 1.56300e+01, 3.75870e+02, 4.52620e+02, 1.13450e+02,\n",
       "       1.60300e+01, 6.15270e+02, 6.15260e+02, 5.12660e+02, 7.45200e+01,\n",
       "       4.26070e+02, 1.69290e+02, 4.19460e+02, 1.58080e+02, 6.69600e+02,\n",
       "       3.95730e+02, 1.59760e+02, 5.85600e+01, 8.58000e+00, 2.85420e+02,\n",
       "       4.10510e+02, 2.44230e+02, 2.18600e+02, 6.43830e+02, 4.97050e+02,\n",
       "       1.02240e+03, 6.57600e+02, 2.30250e+02, 5.62000e+00, 1.60080e+02,\n",
       "       3.46500e+01, 6.78100e+02, 1.74590e+02, 1.59390e+02, 6.98400e+02,\n",
       "       2.32710e+02, 1.63050e+02, 7.98700e+01, 3.82090e+02, 4.83500e+01,\n",
       "       1.33430e+02, 5.61410e+02, 4.45290e+02, 1.65570e+02, 8.44230e+02,\n",
       "       3.40310e+02, 1.06650e+02, 6.26120e+02, 7.84660e+02, 5.47200e+02,\n",
       "       8.62800e+01, 6.35200e+01, 1.20020e+02, 1.25414e+03, 4.17600e+02,\n",
       "       7.98000e+02, 8.20400e+01, 2.28200e+01, 4.22400e+02, 6.39970e+02,\n",
       "       5.11500e+02, 2.39540e+02, 5.18180e+02, 7.15250e+02, 4.02070e+02,\n",
       "       9.48100e+01, 9.72000e+02, 7.38800e+01, 5.74020e+02, 6.32720e+02,\n",
       "       4.24000e+00, 4.22500e+01, 2.71500e+01, 2.70000e+02, 4.94950e+02,\n",
       "       1.42570e+02, 2.51330e+02, 3.69820e+02, 1.61420e+02, 2.56000e+02,\n",
       "       6.17700e+01, 1.31040e+03, 2.50000e+02, 1.41800e+02, 4.98000e+01,\n",
       "       3.72180e+02, 5.42140e+02, 1.36080e+03, 7.68000e+02, 7.26300e+01,\n",
       "       7.20600e+02, 5.76000e+02, 4.66180e+02, 1.59270e+02, 4.12800e+01,\n",
       "       5.03810e+02, 8.59600e+02, 3.05650e+02, 2.78900e+02, 1.41600e+03,\n",
       "       1.39960e+02, 7.34400e+02, 3.73000e+01, 9.58200e+01, 1.00800e+03,\n",
       "       4.46400e+02, 7.22100e+01, 4.01590e+02, 2.53180e+02, 6.43200e+02,\n",
       "       7.99670e+02, 2.79900e+01, 1.66770e+02, 2.70560e+02, 1.78010e+02,\n",
       "       4.04270e+02, 5.13820e+02, 1.31830e+02, 6.28800e+02, 1.78990e+02,\n",
       "       3.92240e+02, 8.73600e+02, 3.80000e-01, 1.87360e+02, 3.50850e+02,\n",
       "       2.17970e+02, 2.59300e+01, 1.88940e+02, 1.53210e+02, 2.89324e+03,\n",
       "       6.29530e+02, 3.61280e+02, 1.18599e+03, 4.25800e+02, 1.90430e+02,\n",
       "       1.93510e+02, 2.40900e+01, 2.19290e+02, 8.81360e+02, 2.69500e+01,\n",
       "       4.66120e+02, 6.07100e+02, 2.90380e+02, 5.58100e+02, 8.28000e+02,\n",
       "       5.40510e+02, 1.00050e+02, 5.98600e+01, 1.93570e+02, 1.99800e+02,\n",
       "       5.30800e+01, 2.56440e+02, 2.11140e+02, 7.43500e+01, 6.21460e+02,\n",
       "       3.60060e+02, 6.59500e+01, 4.07450e+02, 1.22880e+03, 2.40600e+01,\n",
       "       3.11330e+02, 4.26900e+01, 4.60320e+02, 2.13230e+02, 3.00610e+02,\n",
       "       2.62500e+02, 2.63370e+02, 2.56270e+02, 2.15820e+02, 1.35360e+03,\n",
       "       4.99200e+02, 4.55100e+01, 6.91200e+02, 8.24100e+01, 3.57640e+02,\n",
       "       4.20360e+02, 1.36790e+02, 2.20190e+02, 1.70800e+02, 2.66170e+02,\n",
       "       9.89200e+01, 2.81300e+02, 6.31740e+02, 2.92100e+01, 1.36880e+02,\n",
       "       3.17600e+01, 2.24280e+02, 8.30400e+02, 4.80160e+02, 3.90790e+02,\n",
       "       7.20700e+01, 4.19700e+01, 1.02700e+03, 3.19820e+02, 4.11010e+02,\n",
       "       4.11000e+00, 3.51150e+02, 4.96470e+02, 9.25140e+02, 1.31600e+01,\n",
       "       2.27870e+02, 4.63340e+02, 1.80670e+02, 3.02760e+02, 1.41920e+02,\n",
       "       3.49780e+02, 5.40700e+01, 3.42520e+02, 1.02718e+03, 2.75990e+02,\n",
       "       4.72600e+02, 1.33693e+03, 7.35000e+00, 5.40140e+02, 3.83360e+02,\n",
       "       5.37770e+02, 3.21870e+02, 1.95800e+01, 1.08140e+02, 7.07300e+02,\n",
       "       1.06733e+03, 8.07950e+02, 6.18630e+02, 7.10400e+02, 7.07980e+02,\n",
       "       2.32240e+02, 6.82300e+01, 2.87150e+02, 3.91640e+02, 2.39330e+02,\n",
       "       2.32670e+02, 3.36510e+02, 2.44210e+02, 3.28870e+02, 8.50600e+01,\n",
       "       1.41840e+03, 3.34410e+02, 4.21000e+01, 3.00530e+02, 1.44780e+02,\n",
       "       6.46000e+01, 3.47860e+02, 2.45450e+02, 9.55200e+02, 7.20750e+02,\n",
       "       3.40660e+02, 5.46520e+02, 4.89410e+02, 1.71330e+02, 2.49090e+02,\n",
       "       3.08700e+01, 3.61460e+02, 2.07320e+02,         nan])"
      ]
     },
     "execution_count": 17,
     "metadata": {},
     "output_type": "execute_result"
    }
   ],
   "source": [
    "df.total_claim_amount.unique()"
   ]
  },
  {
   "cell_type": "code",
   "execution_count": 18,
   "id": "6c99033b-2117-4707-8ab4-46688d089fac",
   "metadata": {},
   "outputs": [
    {
     "data": {
      "text/plain": [
       "{'Mean': 404.9869281045752,\n",
       " 'Median': 354.73,\n",
       " 'Mode': 0    321.6\n",
       " Name: total_claim_amount, dtype: float64}"
      ]
     },
     "execution_count": 18,
     "metadata": {},
     "output_type": "execute_result"
    }
   ],
   "source": [
    "central_tendency_total_claim_amount = {}\n",
    "central_tendency_total_claim_amount['Mean'] = df['total_claim_amount'].mean()\n",
    "central_tendency_total_claim_amount['Median'] = df['total_claim_amount'].median()\n",
    "central_tendency_total_claim_amount['Mode'] = df['total_claim_amount'].mode()\n",
    "\n",
    "central_tendency_total_claim_amount"
   ]
  },
  {
   "cell_type": "code",
   "execution_count": 19,
   "id": "dfae0f14-83a5-4c7a-ae7d-3bf23f038943",
   "metadata": {},
   "outputs": [],
   "source": [
    "#¿¿¿Is this useful???\n",
    "sorted_income= np.sort(df.income.unique()) #we are sorting the array, so we can do mean, mode, median ???\n",
    "sorted_monthly_premium_auto= np.sort(df.monthly_premium_auto.unique())"
   ]
  },
  {
   "cell_type": "code",
   "execution_count": null,
   "id": "563f221e-13b1-4c11-9b19-866fad5cda1a",
   "metadata": {},
   "outputs": [],
   "source": []
  },
  {
   "cell_type": "code",
   "execution_count": 20,
   "id": "780cd199-2291-46e5-abb1-afe46599daa1",
   "metadata": {},
   "outputs": [
    {
     "data": {
      "text/html": [
       "<div>\n",
       "<style scoped>\n",
       "    .dataframe tbody tr th:only-of-type {\n",
       "        vertical-align: middle;\n",
       "    }\n",
       "\n",
       "    .dataframe tbody tr th {\n",
       "        vertical-align: top;\n",
       "    }\n",
       "\n",
       "    .dataframe thead th {\n",
       "        text-align: right;\n",
       "    }\n",
       "</style>\n",
       "<table border=\"1\" class=\"dataframe\">\n",
       "  <thead>\n",
       "    <tr style=\"text-align: right;\">\n",
       "      <th></th>\n",
       "      <th>customer</th>\n",
       "      <th>st</th>\n",
       "      <th>gender</th>\n",
       "      <th>education</th>\n",
       "      <th>customer_lifetime_value</th>\n",
       "      <th>number_of_open_complaints</th>\n",
       "      <th>policy_type</th>\n",
       "      <th>vehicle_class</th>\n",
       "    </tr>\n",
       "  </thead>\n",
       "  <tbody>\n",
       "    <tr>\n",
       "      <th>0</th>\n",
       "      <td>RB50392</td>\n",
       "      <td>Washington</td>\n",
       "      <td>NaN</td>\n",
       "      <td>Master</td>\n",
       "      <td>NaN</td>\n",
       "      <td>1/0/00</td>\n",
       "      <td>Personal Auto</td>\n",
       "      <td>Four-Door Car</td>\n",
       "    </tr>\n",
       "    <tr>\n",
       "      <th>1</th>\n",
       "      <td>QZ44356</td>\n",
       "      <td>Arizona</td>\n",
       "      <td>F</td>\n",
       "      <td>Bachelor</td>\n",
       "      <td>697953.59%</td>\n",
       "      <td>1/0/00</td>\n",
       "      <td>Personal Auto</td>\n",
       "      <td>Four-Door Car</td>\n",
       "    </tr>\n",
       "    <tr>\n",
       "      <th>2</th>\n",
       "      <td>AI49188</td>\n",
       "      <td>Nevada</td>\n",
       "      <td>F</td>\n",
       "      <td>Bachelor</td>\n",
       "      <td>1288743.17%</td>\n",
       "      <td>1/0/00</td>\n",
       "      <td>Personal Auto</td>\n",
       "      <td>Two-Door Car</td>\n",
       "    </tr>\n",
       "    <tr>\n",
       "      <th>3</th>\n",
       "      <td>WW63253</td>\n",
       "      <td>California</td>\n",
       "      <td>M</td>\n",
       "      <td>Bachelor</td>\n",
       "      <td>764586.18%</td>\n",
       "      <td>1/0/00</td>\n",
       "      <td>Corporate Auto</td>\n",
       "      <td>SUV</td>\n",
       "    </tr>\n",
       "    <tr>\n",
       "      <th>4</th>\n",
       "      <td>GA49547</td>\n",
       "      <td>Washington</td>\n",
       "      <td>M</td>\n",
       "      <td>High School or Below</td>\n",
       "      <td>536307.65%</td>\n",
       "      <td>1/0/00</td>\n",
       "      <td>Personal Auto</td>\n",
       "      <td>Four-Door Car</td>\n",
       "    </tr>\n",
       "    <tr>\n",
       "      <th>...</th>\n",
       "      <td>...</td>\n",
       "      <td>...</td>\n",
       "      <td>...</td>\n",
       "      <td>...</td>\n",
       "      <td>...</td>\n",
       "      <td>...</td>\n",
       "      <td>...</td>\n",
       "      <td>...</td>\n",
       "    </tr>\n",
       "    <tr>\n",
       "      <th>4003</th>\n",
       "      <td>NaN</td>\n",
       "      <td>NaN</td>\n",
       "      <td>NaN</td>\n",
       "      <td>NaN</td>\n",
       "      <td>NaN</td>\n",
       "      <td>NaN</td>\n",
       "      <td>NaN</td>\n",
       "      <td>NaN</td>\n",
       "    </tr>\n",
       "    <tr>\n",
       "      <th>4004</th>\n",
       "      <td>NaN</td>\n",
       "      <td>NaN</td>\n",
       "      <td>NaN</td>\n",
       "      <td>NaN</td>\n",
       "      <td>NaN</td>\n",
       "      <td>NaN</td>\n",
       "      <td>NaN</td>\n",
       "      <td>NaN</td>\n",
       "    </tr>\n",
       "    <tr>\n",
       "      <th>4005</th>\n",
       "      <td>NaN</td>\n",
       "      <td>NaN</td>\n",
       "      <td>NaN</td>\n",
       "      <td>NaN</td>\n",
       "      <td>NaN</td>\n",
       "      <td>NaN</td>\n",
       "      <td>NaN</td>\n",
       "      <td>NaN</td>\n",
       "    </tr>\n",
       "    <tr>\n",
       "      <th>4006</th>\n",
       "      <td>NaN</td>\n",
       "      <td>NaN</td>\n",
       "      <td>NaN</td>\n",
       "      <td>NaN</td>\n",
       "      <td>NaN</td>\n",
       "      <td>NaN</td>\n",
       "      <td>NaN</td>\n",
       "      <td>NaN</td>\n",
       "    </tr>\n",
       "    <tr>\n",
       "      <th>4007</th>\n",
       "      <td>NaN</td>\n",
       "      <td>NaN</td>\n",
       "      <td>NaN</td>\n",
       "      <td>NaN</td>\n",
       "      <td>NaN</td>\n",
       "      <td>NaN</td>\n",
       "      <td>NaN</td>\n",
       "      <td>NaN</td>\n",
       "    </tr>\n",
       "  </tbody>\n",
       "</table>\n",
       "<p>4008 rows × 8 columns</p>\n",
       "</div>"
      ],
      "text/plain": [
       "     customer          st gender             education  \\\n",
       "0     RB50392  Washington    NaN                Master   \n",
       "1     QZ44356     Arizona      F              Bachelor   \n",
       "2     AI49188      Nevada      F              Bachelor   \n",
       "3     WW63253  California      M              Bachelor   \n",
       "4     GA49547  Washington      M  High School or Below   \n",
       "...       ...         ...    ...                   ...   \n",
       "4003      NaN         NaN    NaN                   NaN   \n",
       "4004      NaN         NaN    NaN                   NaN   \n",
       "4005      NaN         NaN    NaN                   NaN   \n",
       "4006      NaN         NaN    NaN                   NaN   \n",
       "4007      NaN         NaN    NaN                   NaN   \n",
       "\n",
       "     customer_lifetime_value number_of_open_complaints     policy_type  \\\n",
       "0                        NaN                    1/0/00   Personal Auto   \n",
       "1                 697953.59%                    1/0/00   Personal Auto   \n",
       "2                1288743.17%                    1/0/00   Personal Auto   \n",
       "3                 764586.18%                    1/0/00  Corporate Auto   \n",
       "4                 536307.65%                    1/0/00   Personal Auto   \n",
       "...                      ...                       ...             ...   \n",
       "4003                     NaN                       NaN             NaN   \n",
       "4004                     NaN                       NaN             NaN   \n",
       "4005                     NaN                       NaN             NaN   \n",
       "4006                     NaN                       NaN             NaN   \n",
       "4007                     NaN                       NaN             NaN   \n",
       "\n",
       "      vehicle_class  \n",
       "0     Four-Door Car  \n",
       "1     Four-Door Car  \n",
       "2      Two-Door Car  \n",
       "3               SUV  \n",
       "4     Four-Door Car  \n",
       "...             ...  \n",
       "4003            NaN  \n",
       "4004            NaN  \n",
       "4005            NaN  \n",
       "4006            NaN  \n",
       "4007            NaN  \n",
       "\n",
       "[4008 rows x 8 columns]"
      ]
     },
     "execution_count": 20,
     "metadata": {},
     "output_type": "execute_result"
    }
   ],
   "source": [
    "cat = df.select_dtypes(exclude = 'number')\n",
    "cat"
   ]
  },
  {
   "cell_type": "code",
   "execution_count": 21,
   "id": "777e2508-8938-406d-8cbe-7f411a8f74be",
   "metadata": {},
   "outputs": [
    {
     "data": {
      "text/plain": [
       "array(['RB50392', 'QZ44356', 'AI49188', ..., 'CW49887', 'MY31220', nan],\n",
       "      dtype=object)"
      ]
     },
     "execution_count": 21,
     "metadata": {},
     "output_type": "execute_result"
    }
   ],
   "source": [
    "df.customer.unique()"
   ]
  },
  {
   "cell_type": "code",
   "execution_count": 22,
   "id": "5b960535-9ac3-4108-9bdb-8a8a14e01be7",
   "metadata": {},
   "outputs": [
    {
     "data": {
      "text/plain": [
       "customer\n",
       "RB50392    1\n",
       "HJ15383    1\n",
       "AO74776    1\n",
       "HQ82233    1\n",
       "OL72737    1\n",
       "          ..\n",
       "RO26085    1\n",
       "ES57969    1\n",
       "JK55587    1\n",
       "RN97635    1\n",
       "MY31220    1\n",
       "Name: count, Length: 1071, dtype: int64"
      ]
     },
     "execution_count": 22,
     "metadata": {},
     "output_type": "execute_result"
    }
   ],
   "source": [
    "df.customer.value_counts()"
   ]
  },
  {
   "cell_type": "code",
   "execution_count": 23,
   "id": "ba3f4af6-48c0-4d54-bd1f-5e2d947a2130",
   "metadata": {},
   "outputs": [
    {
     "data": {
      "text/plain": [
       "array(['Washington', 'Arizona', 'Nevada', 'California', 'Oregon', 'Cali',\n",
       "       'AZ', 'WA', nan], dtype=object)"
      ]
     },
     "execution_count": 23,
     "metadata": {},
     "output_type": "execute_result"
    }
   ],
   "source": [
    "df.st.unique()"
   ]
  },
  {
   "cell_type": "code",
   "execution_count": 24,
   "id": "90f67f52-d0ee-4bb2-9506-f3e70bcf0f52",
   "metadata": {},
   "outputs": [
    {
     "data": {
      "text/plain": [
       "st\n",
       "Oregon        320\n",
       "California    211\n",
       "Arizona       186\n",
       "Cali          120\n",
       "Nevada         98\n",
       "Washington     81\n",
       "WA             30\n",
       "AZ             25\n",
       "Name: count, dtype: int64"
      ]
     },
     "execution_count": 24,
     "metadata": {},
     "output_type": "execute_result"
    }
   ],
   "source": [
    "df.st.value_counts()"
   ]
  },
  {
   "cell_type": "code",
   "execution_count": 25,
   "id": "cf5b1321-68cc-4c25-ac40-26ad14c07e39",
   "metadata": {},
   "outputs": [
    {
     "data": {
      "text/plain": [
       "array([nan, 'F', 'M', 'Femal', 'Male', 'female'], dtype=object)"
      ]
     },
     "execution_count": 25,
     "metadata": {},
     "output_type": "execute_result"
    }
   ],
   "source": [
    "df.gender.unique()"
   ]
  },
  {
   "cell_type": "code",
   "execution_count": 26,
   "id": "b8ab6b16-2ef3-4950-95ea-8b4819d7823d",
   "metadata": {},
   "outputs": [
    {
     "data": {
      "text/plain": [
       "gender\n",
       "F         457\n",
       "M         413\n",
       "Male       39\n",
       "female     28\n",
       "Femal      17\n",
       "Name: count, dtype: int64"
      ]
     },
     "execution_count": 26,
     "metadata": {},
     "output_type": "execute_result"
    }
   ],
   "source": [
    "df.gender.value_counts()"
   ]
  },
  {
   "cell_type": "code",
   "execution_count": 27,
   "id": "a95b5d2b-1d4c-47b1-8791-e10e35de51e4",
   "metadata": {},
   "outputs": [
    {
     "data": {
      "text/plain": [
       "array(['Master', 'Bachelor', 'High School or Below', 'College',\n",
       "       'Bachelors', 'Doctor', nan], dtype=object)"
      ]
     },
     "execution_count": 27,
     "metadata": {},
     "output_type": "execute_result"
    }
   ],
   "source": [
    "df.education.unique()"
   ]
  },
  {
   "cell_type": "code",
   "execution_count": 28,
   "id": "95e7f491-742d-40ca-9255-fbc023321bfb",
   "metadata": {},
   "outputs": [
    {
     "data": {
      "text/plain": [
       "education\n",
       "Bachelor                324\n",
       "College                 313\n",
       "High School or Below    296\n",
       "Master                   94\n",
       "Doctor                   37\n",
       "Bachelors                 7\n",
       "Name: count, dtype: int64"
      ]
     },
     "execution_count": 28,
     "metadata": {},
     "output_type": "execute_result"
    }
   ],
   "source": [
    "df.education.value_counts()"
   ]
  },
  {
   "cell_type": "code",
   "execution_count": 29,
   "id": "9288894f-2594-42d3-bf0c-af0c3ab11774",
   "metadata": {},
   "outputs": [
    {
     "data": {
      "text/plain": [
       "array([nan, '697953.59%', '1288743.17%', ..., '2031499.76%', '323912.47%',\n",
       "       '899704.02%'], dtype=object)"
      ]
     },
     "execution_count": 29,
     "metadata": {},
     "output_type": "execute_result"
    }
   ],
   "source": [
    "df.customer_lifetime_value.unique()"
   ]
  },
  {
   "cell_type": "code",
   "execution_count": 30,
   "id": "503e31ad-6642-4f36-a3b0-35684506e2b9",
   "metadata": {},
   "outputs": [
    {
     "data": {
      "text/plain": [
       "customer_lifetime_value\n",
       "445811.34%     4\n",
       "251459.20%     4\n",
       "272535.64%     3\n",
       "578018.22%     3\n",
       "684615.03%     3\n",
       "              ..\n",
       "245357.08%     1\n",
       "507566.27%     1\n",
       "321497.94%     1\n",
       "1227534.31%    1\n",
       "899704.02%     1\n",
       "Name: count, Length: 1027, dtype: int64"
      ]
     },
     "execution_count": 30,
     "metadata": {},
     "output_type": "execute_result"
    }
   ],
   "source": [
    "df.customer_lifetime_value.value_counts()"
   ]
  },
  {
   "cell_type": "code",
   "execution_count": 31,
   "id": "c83a7f13-61b9-45aa-ba32-595ca59e1139",
   "metadata": {},
   "outputs": [
    {
     "data": {
      "text/plain": [
       "1027"
      ]
     },
     "execution_count": 31,
     "metadata": {},
     "output_type": "execute_result"
    }
   ],
   "source": [
    "df['customer_lifetime_value'].nunique()"
   ]
  },
  {
   "cell_type": "code",
   "execution_count": 32,
   "id": "7a5f2622-d008-4988-a3e2-7f429e4403c5",
   "metadata": {},
   "outputs": [
    {
     "data": {
      "text/plain": [
       "array(['1/0/00', '1/2/00', '1/1/00', '1/3/00', '1/5/00', '1/4/00', nan],\n",
       "      dtype=object)"
      ]
     },
     "execution_count": 32,
     "metadata": {},
     "output_type": "execute_result"
    }
   ],
   "source": [
    "df.number_of_open_complaints.unique()"
   ]
  },
  {
   "cell_type": "code",
   "execution_count": 33,
   "id": "240a895b-8a90-4740-a20b-ae12e1f0b474",
   "metadata": {},
   "outputs": [
    {
     "data": {
      "text/plain": [
       "number_of_open_complaints\n",
       "1/0/00    830\n",
       "1/1/00    138\n",
       "1/2/00     50\n",
       "1/3/00     34\n",
       "1/4/00     13\n",
       "1/5/00      6\n",
       "Name: count, dtype: int64"
      ]
     },
     "execution_count": 33,
     "metadata": {},
     "output_type": "execute_result"
    }
   ],
   "source": [
    "df.number_of_open_complaints.value_counts()"
   ]
  },
  {
   "cell_type": "code",
   "execution_count": 34,
   "id": "6c9b5403-18b0-4eb2-9c75-49135e1cfd02",
   "metadata": {},
   "outputs": [
    {
     "data": {
      "text/plain": [
       "array(['Personal Auto', 'Corporate Auto', 'Special Auto', nan],\n",
       "      dtype=object)"
      ]
     },
     "execution_count": 34,
     "metadata": {},
     "output_type": "execute_result"
    }
   ],
   "source": [
    "df.policy_type.unique()"
   ]
  },
  {
   "cell_type": "code",
   "execution_count": 35,
   "id": "6eacf9e5-19fb-452a-a1cd-ba8224ef5a2d",
   "metadata": {},
   "outputs": [
    {
     "data": {
      "text/plain": [
       "policy_type\n",
       "Personal Auto     780\n",
       "Corporate Auto    234\n",
       "Special Auto       57\n",
       "Name: count, dtype: int64"
      ]
     },
     "execution_count": 35,
     "metadata": {},
     "output_type": "execute_result"
    }
   ],
   "source": [
    "df.policy_type.value_counts()"
   ]
  },
  {
   "cell_type": "code",
   "execution_count": 36,
   "id": "da425b29-a81b-4d4f-aaf2-a586870b161d",
   "metadata": {},
   "outputs": [
    {
     "data": {
      "text/plain": [
       "array(['Four-Door Car', 'Two-Door Car', 'SUV', 'Luxury SUV', 'Sports Car',\n",
       "       'Luxury Car', nan], dtype=object)"
      ]
     },
     "execution_count": 36,
     "metadata": {},
     "output_type": "execute_result"
    }
   ],
   "source": [
    "df.vehicle_class.unique()"
   ]
  },
  {
   "cell_type": "code",
   "execution_count": 37,
   "id": "82c6be6e-a75f-484e-8c2f-70e548e681c7",
   "metadata": {},
   "outputs": [
    {
     "data": {
      "text/plain": [
       "vehicle_class\n",
       "Four-Door Car    576\n",
       "Two-Door Car     205\n",
       "SUV              199\n",
       "Sports Car        57\n",
       "Luxury SUV        20\n",
       "Luxury Car        14\n",
       "Name: count, dtype: int64"
      ]
     },
     "execution_count": 37,
     "metadata": {},
     "output_type": "execute_result"
    }
   ],
   "source": [
    "df.vehicle_class.value_counts()"
   ]
  },
  {
   "cell_type": "code",
   "execution_count": 38,
   "id": "8e473014-30a6-4be9-9867-7909cae02ba5",
   "metadata": {},
   "outputs": [
    {
     "data": {
      "text/plain": [
       "6"
      ]
     },
     "execution_count": 38,
     "metadata": {},
     "output_type": "execute_result"
    }
   ],
   "source": [
    "df['vehicle_class'].nunique()"
   ]
  },
  {
   "cell_type": "markdown",
   "id": "4a703890-63db-4944-b7ab-95a4f8185120",
   "metadata": {},
   "source": [
    "## Challenge 2: analyzing the data"
   ]
  },
  {
   "cell_type": "markdown",
   "id": "0776a403-c56a-452f-ac33-5fd4fdb06fc7",
   "metadata": {},
   "source": [
    "### Exercise 1"
   ]
  },
  {
   "cell_type": "markdown",
   "id": "eedbc484-da4d-4f9c-9343-e1d44311a87e",
   "metadata": {},
   "source": [
    "The marketing team wants to know the top 5 less common customer locations. Create a pandas Series object that contains the customer locations and their frequencies, and then retrieve the top 5 less common locations in ascending order."
   ]
  },
  {
   "cell_type": "code",
   "execution_count": 41,
   "id": "2dca5073-4520-4f42-9390-4b92733284ed",
   "metadata": {},
   "outputs": [
    {
     "data": {
      "text/plain": [
       "st\n",
       "California    331\n",
       "Oregon        320\n",
       "Arizona       211\n",
       "Washington    111\n",
       "Nevada         98\n",
       "Name: count, dtype: int64"
      ]
     },
     "execution_count": 41,
     "metadata": {},
     "output_type": "execute_result"
    }
   ],
   "source": [
    "# Your code here\n",
    "df.st.value_counts()"
   ]
  },
  {
   "cell_type": "code",
   "execution_count": 40,
   "id": "39bb5043-172d-458b-8a65-1fe827ed137a",
   "metadata": {},
   "outputs": [],
   "source": [
    "df.st=df.st.replace(\"WA\", \"Washington\") #we are replacing WA for Washington to harmonise result\n",
    "df.st=df.st.replace(\"AZ\", \"Arizona\")\n",
    "df.st=df.st.replace(\"Cali\", \"California\")"
   ]
  },
  {
   "cell_type": "code",
   "execution_count": 53,
   "id": "042d91f1-c92b-49fe-9f63-6f10f8ecde8a",
   "metadata": {},
   "outputs": [
    {
     "data": {
      "text/plain": [
       "st\n",
       "Nevada         98\n",
       "Washington    111\n",
       "Arizona       211\n",
       "Oregon        320\n",
       "California    331\n",
       "Name: count, dtype: int64"
      ]
     },
     "execution_count": 53,
     "metadata": {},
     "output_type": "execute_result"
    }
   ],
   "source": [
    "# retrieve the top 5 less common locations in ascending order\n",
    "locations = df['st'].value_counts()\n",
    "less_common = locations.nsmallest(5)\n",
    "less_common"
   ]
  },
  {
   "cell_type": "code",
   "execution_count": 57,
   "id": "3bd40a30-23f3-4574-8ae5-39cbd8679cdf",
   "metadata": {},
   "outputs": [
    {
     "data": {
      "text/html": [
       "<div>\n",
       "<style scoped>\n",
       "    .dataframe tbody tr th:only-of-type {\n",
       "        vertical-align: middle;\n",
       "    }\n",
       "\n",
       "    .dataframe tbody tr th {\n",
       "        vertical-align: top;\n",
       "    }\n",
       "\n",
       "    .dataframe thead th {\n",
       "        text-align: right;\n",
       "    }\n",
       "</style>\n",
       "<table border=\"1\" class=\"dataframe\">\n",
       "  <thead>\n",
       "    <tr style=\"text-align: right;\">\n",
       "      <th></th>\n",
       "      <th>Location</th>\n",
       "      <th>Frequency</th>\n",
       "    </tr>\n",
       "  </thead>\n",
       "  <tbody>\n",
       "    <tr>\n",
       "      <th>0</th>\n",
       "      <td>Nevada</td>\n",
       "      <td>98</td>\n",
       "    </tr>\n",
       "    <tr>\n",
       "      <th>1</th>\n",
       "      <td>Washington</td>\n",
       "      <td>111</td>\n",
       "    </tr>\n",
       "    <tr>\n",
       "      <th>2</th>\n",
       "      <td>Arizona</td>\n",
       "      <td>211</td>\n",
       "    </tr>\n",
       "    <tr>\n",
       "      <th>3</th>\n",
       "      <td>Oregon</td>\n",
       "      <td>320</td>\n",
       "    </tr>\n",
       "    <tr>\n",
       "      <th>4</th>\n",
       "      <td>California</td>\n",
       "      <td>331</td>\n",
       "    </tr>\n",
       "  </tbody>\n",
       "</table>\n",
       "</div>"
      ],
      "text/plain": [
       "     Location  Frequency\n",
       "0      Nevada         98\n",
       "1  Washington        111\n",
       "2     Arizona        211\n",
       "3      Oregon        320\n",
       "4  California        331"
      ]
     },
     "execution_count": 57,
     "metadata": {},
     "output_type": "execute_result"
    }
   ],
   "source": [
    "#create a pandas series\n",
    "data_location = {'Location': ['Nevada', 'Washington', 'Arizona', 'Oregon', 'California'],\n",
    "                'Frequency': [98, 111, 211, 320, 331]}\n",
    "df_location = pd.DataFrame(data_location)\n",
    "df_location"
   ]
  },
  {
   "cell_type": "code",
   "execution_count": null,
   "id": "bf635e3f-dce5-4aed-88ea-ed2364102a36",
   "metadata": {},
   "outputs": [],
   "source": []
  },
  {
   "cell_type": "markdown",
   "id": "0ce80f43-4afa-43c7-a78a-c917444da4e0",
   "metadata": {},
   "source": [
    "### Exercise 2\n",
    "\n",
    "The sales team wants to know the total number of policies sold for each type of policy. Create a pandas Series object that contains the policy types and their total number of policies sold, and then retrieve the policy type with the highest number of policies sold."
   ]
  },
  {
   "cell_type": "markdown",
   "id": "a9f13997-1555-4f98-aca6-970fda1d2c3f",
   "metadata": {},
   "source": [
    "*Hint:*\n",
    "- *Using value_counts() method simplifies this analysis.*\n",
    "- *Futhermore, there is a method that returns the index of the maximum value in a column or row.*\n"
   ]
  },
  {
   "cell_type": "code",
   "execution_count": null,
   "id": "bcfad6c1-9af2-4b0b-9aa9-0dc5c17473c0",
   "metadata": {},
   "outputs": [],
   "source": [
    "# Your code here"
   ]
  },
  {
   "cell_type": "code",
   "execution_count": 58,
   "id": "ea453171-71f6-42a9-aa23-dcdbebeabda9",
   "metadata": {},
   "outputs": [
    {
     "data": {
      "text/html": [
       "<div>\n",
       "<style scoped>\n",
       "    .dataframe tbody tr th:only-of-type {\n",
       "        vertical-align: middle;\n",
       "    }\n",
       "\n",
       "    .dataframe tbody tr th {\n",
       "        vertical-align: top;\n",
       "    }\n",
       "\n",
       "    .dataframe thead th {\n",
       "        text-align: right;\n",
       "    }\n",
       "</style>\n",
       "<table border=\"1\" class=\"dataframe\">\n",
       "  <thead>\n",
       "    <tr style=\"text-align: right;\">\n",
       "      <th></th>\n",
       "      <th>customer</th>\n",
       "      <th>st</th>\n",
       "      <th>gender</th>\n",
       "      <th>education</th>\n",
       "      <th>customer_lifetime_value</th>\n",
       "      <th>income</th>\n",
       "      <th>monthly_premium_auto</th>\n",
       "      <th>number_of_open_complaints</th>\n",
       "      <th>policy_type</th>\n",
       "      <th>vehicle_class</th>\n",
       "      <th>total_claim_amount</th>\n",
       "    </tr>\n",
       "  </thead>\n",
       "  <tbody>\n",
       "    <tr>\n",
       "      <th>0</th>\n",
       "      <td>RB50392</td>\n",
       "      <td>Washington</td>\n",
       "      <td>NaN</td>\n",
       "      <td>Master</td>\n",
       "      <td>NaN</td>\n",
       "      <td>0.0</td>\n",
       "      <td>1000.0</td>\n",
       "      <td>1/0/00</td>\n",
       "      <td>Personal Auto</td>\n",
       "      <td>Four-Door Car</td>\n",
       "      <td>2.70</td>\n",
       "    </tr>\n",
       "    <tr>\n",
       "      <th>1</th>\n",
       "      <td>QZ44356</td>\n",
       "      <td>Arizona</td>\n",
       "      <td>F</td>\n",
       "      <td>Bachelor</td>\n",
       "      <td>697953.59%</td>\n",
       "      <td>0.0</td>\n",
       "      <td>94.0</td>\n",
       "      <td>1/0/00</td>\n",
       "      <td>Personal Auto</td>\n",
       "      <td>Four-Door Car</td>\n",
       "      <td>1131.46</td>\n",
       "    </tr>\n",
       "    <tr>\n",
       "      <th>2</th>\n",
       "      <td>AI49188</td>\n",
       "      <td>Nevada</td>\n",
       "      <td>F</td>\n",
       "      <td>Bachelor</td>\n",
       "      <td>1288743.17%</td>\n",
       "      <td>48767.0</td>\n",
       "      <td>108.0</td>\n",
       "      <td>1/0/00</td>\n",
       "      <td>Personal Auto</td>\n",
       "      <td>Two-Door Car</td>\n",
       "      <td>566.47</td>\n",
       "    </tr>\n",
       "    <tr>\n",
       "      <th>3</th>\n",
       "      <td>WW63253</td>\n",
       "      <td>California</td>\n",
       "      <td>M</td>\n",
       "      <td>Bachelor</td>\n",
       "      <td>764586.18%</td>\n",
       "      <td>0.0</td>\n",
       "      <td>106.0</td>\n",
       "      <td>1/0/00</td>\n",
       "      <td>Corporate Auto</td>\n",
       "      <td>SUV</td>\n",
       "      <td>529.88</td>\n",
       "    </tr>\n",
       "    <tr>\n",
       "      <th>4</th>\n",
       "      <td>GA49547</td>\n",
       "      <td>Washington</td>\n",
       "      <td>M</td>\n",
       "      <td>High School or Below</td>\n",
       "      <td>536307.65%</td>\n",
       "      <td>36357.0</td>\n",
       "      <td>68.0</td>\n",
       "      <td>1/0/00</td>\n",
       "      <td>Personal Auto</td>\n",
       "      <td>Four-Door Car</td>\n",
       "      <td>17.27</td>\n",
       "    </tr>\n",
       "  </tbody>\n",
       "</table>\n",
       "</div>"
      ],
      "text/plain": [
       "  customer          st gender             education customer_lifetime_value  \\\n",
       "0  RB50392  Washington    NaN                Master                     NaN   \n",
       "1  QZ44356     Arizona      F              Bachelor              697953.59%   \n",
       "2  AI49188      Nevada      F              Bachelor             1288743.17%   \n",
       "3  WW63253  California      M              Bachelor              764586.18%   \n",
       "4  GA49547  Washington      M  High School or Below              536307.65%   \n",
       "\n",
       "    income  monthly_premium_auto number_of_open_complaints     policy_type  \\\n",
       "0      0.0                1000.0                    1/0/00   Personal Auto   \n",
       "1      0.0                  94.0                    1/0/00   Personal Auto   \n",
       "2  48767.0                 108.0                    1/0/00   Personal Auto   \n",
       "3      0.0                 106.0                    1/0/00  Corporate Auto   \n",
       "4  36357.0                  68.0                    1/0/00   Personal Auto   \n",
       "\n",
       "   vehicle_class  total_claim_amount  \n",
       "0  Four-Door Car                2.70  \n",
       "1  Four-Door Car             1131.46  \n",
       "2   Two-Door Car              566.47  \n",
       "3            SUV              529.88  \n",
       "4  Four-Door Car               17.27  "
      ]
     },
     "execution_count": 58,
     "metadata": {},
     "output_type": "execute_result"
    }
   ],
   "source": [
    "df.head()"
   ]
  },
  {
   "cell_type": "code",
   "execution_count": 66,
   "id": "2c07d9b9-1a0e-4d04-ada6-28b9fe04f56c",
   "metadata": {},
   "outputs": [
    {
     "data": {
      "text/plain": [
       "policy_type\n",
       "Personal Auto     780\n",
       "Corporate Auto    234\n",
       "Special Auto       57\n",
       "Name: count, dtype: int64"
      ]
     },
     "execution_count": 66,
     "metadata": {},
     "output_type": "execute_result"
    }
   ],
   "source": [
    "df.policy_type.value_counts()"
   ]
  },
  {
   "cell_type": "code",
   "execution_count": 67,
   "id": "6044d536-8ff6-4b7f-a29b-46eee10083b1",
   "metadata": {},
   "outputs": [
    {
     "data": {
      "text/html": [
       "<div>\n",
       "<style scoped>\n",
       "    .dataframe tbody tr th:only-of-type {\n",
       "        vertical-align: middle;\n",
       "    }\n",
       "\n",
       "    .dataframe tbody tr th {\n",
       "        vertical-align: top;\n",
       "    }\n",
       "\n",
       "    .dataframe thead th {\n",
       "        text-align: right;\n",
       "    }\n",
       "</style>\n",
       "<table border=\"1\" class=\"dataframe\">\n",
       "  <thead>\n",
       "    <tr style=\"text-align: right;\">\n",
       "      <th></th>\n",
       "      <th>Policy type</th>\n",
       "      <th>Amount sold</th>\n",
       "    </tr>\n",
       "  </thead>\n",
       "  <tbody>\n",
       "    <tr>\n",
       "      <th>0</th>\n",
       "      <td>Personal Auto</td>\n",
       "      <td>780</td>\n",
       "    </tr>\n",
       "    <tr>\n",
       "      <th>1</th>\n",
       "      <td>Corporate Auto</td>\n",
       "      <td>234</td>\n",
       "    </tr>\n",
       "    <tr>\n",
       "      <th>2</th>\n",
       "      <td>Special Auto</td>\n",
       "      <td>57</td>\n",
       "    </tr>\n",
       "  </tbody>\n",
       "</table>\n",
       "</div>"
      ],
      "text/plain": [
       "      Policy type  Amount sold\n",
       "0   Personal Auto          780\n",
       "1  Corporate Auto          234\n",
       "2    Special Auto           57"
      ]
     },
     "execution_count": 67,
     "metadata": {},
     "output_type": "execute_result"
    }
   ],
   "source": [
    "data_policy_type = {'Policy type': ['Personal Auto', 'Corporate Auto', 'Special Auto'],\n",
    "                'Amount sold': [780, 234, 57]}\n",
    "df_policy_type = pd.DataFrame(data_policy_type)\n",
    "df_policy_type"
   ]
  },
  {
   "cell_type": "markdown",
   "id": "0b863fd3-bf91-4d5d-86eb-be29ed9f5b70",
   "metadata": {},
   "source": [
    "### Exercise 3\n",
    "\n",
    "The sales team wants to know if customers with Personal Auto have a lower income than those with Corporate Auto. How does the average income compare between the two policy types?"
   ]
  },
  {
   "cell_type": "markdown",
   "id": "b1386d75-2810-4aa1-93e0-9485aa12d552",
   "metadata": {},
   "source": [
    "- Use *loc* to create two dataframes: one containing only Personal Auto policies and one containing only Corporate Auto policies.\n",
    "- Calculate the average income for each policy.\n",
    "- Print the results."
   ]
  },
  {
   "cell_type": "code",
   "execution_count": 71,
   "id": "0c0563cf-6f8b-463d-a321-651a972f82e5",
   "metadata": {},
   "outputs": [
    {
     "data": {
      "text/html": [
       "<div>\n",
       "<style scoped>\n",
       "    .dataframe tbody tr th:only-of-type {\n",
       "        vertical-align: middle;\n",
       "    }\n",
       "\n",
       "    .dataframe tbody tr th {\n",
       "        vertical-align: top;\n",
       "    }\n",
       "\n",
       "    .dataframe thead th {\n",
       "        text-align: right;\n",
       "    }\n",
       "</style>\n",
       "<table border=\"1\" class=\"dataframe\">\n",
       "  <thead>\n",
       "    <tr style=\"text-align: right;\">\n",
       "      <th></th>\n",
       "      <th>policy_type</th>\n",
       "      <th>income</th>\n",
       "    </tr>\n",
       "  </thead>\n",
       "  <tbody>\n",
       "    <tr>\n",
       "      <th>0</th>\n",
       "      <td>Personal Auto</td>\n",
       "      <td>0.0</td>\n",
       "    </tr>\n",
       "    <tr>\n",
       "      <th>1</th>\n",
       "      <td>Personal Auto</td>\n",
       "      <td>0.0</td>\n",
       "    </tr>\n",
       "    <tr>\n",
       "      <th>2</th>\n",
       "      <td>Personal Auto</td>\n",
       "      <td>48767.0</td>\n",
       "    </tr>\n",
       "    <tr>\n",
       "      <th>3</th>\n",
       "      <td>Corporate Auto</td>\n",
       "      <td>0.0</td>\n",
       "    </tr>\n",
       "    <tr>\n",
       "      <th>4</th>\n",
       "      <td>Personal Auto</td>\n",
       "      <td>36357.0</td>\n",
       "    </tr>\n",
       "    <tr>\n",
       "      <th>...</th>\n",
       "      <td>...</td>\n",
       "      <td>...</td>\n",
       "    </tr>\n",
       "    <tr>\n",
       "      <th>4003</th>\n",
       "      <td>NaN</td>\n",
       "      <td>NaN</td>\n",
       "    </tr>\n",
       "    <tr>\n",
       "      <th>4004</th>\n",
       "      <td>NaN</td>\n",
       "      <td>NaN</td>\n",
       "    </tr>\n",
       "    <tr>\n",
       "      <th>4005</th>\n",
       "      <td>NaN</td>\n",
       "      <td>NaN</td>\n",
       "    </tr>\n",
       "    <tr>\n",
       "      <th>4006</th>\n",
       "      <td>NaN</td>\n",
       "      <td>NaN</td>\n",
       "    </tr>\n",
       "    <tr>\n",
       "      <th>4007</th>\n",
       "      <td>NaN</td>\n",
       "      <td>NaN</td>\n",
       "    </tr>\n",
       "  </tbody>\n",
       "</table>\n",
       "<p>4008 rows × 2 columns</p>\n",
       "</div>"
      ],
      "text/plain": [
       "         policy_type   income\n",
       "0      Personal Auto      0.0\n",
       "1      Personal Auto      0.0\n",
       "2      Personal Auto  48767.0\n",
       "3     Corporate Auto      0.0\n",
       "4      Personal Auto  36357.0\n",
       "...              ...      ...\n",
       "4003             NaN      NaN\n",
       "4004             NaN      NaN\n",
       "4005             NaN      NaN\n",
       "4006             NaN      NaN\n",
       "4007             NaN      NaN\n",
       "\n",
       "[4008 rows x 2 columns]"
      ]
     },
     "execution_count": 71,
     "metadata": {},
     "output_type": "execute_result"
    }
   ],
   "source": [
    "# Your code here\n",
    "\n",
    "df2 = df[['policy_type', 'income']]\n",
    "df2"
   ]
  },
  {
   "cell_type": "code",
   "execution_count": 75,
   "id": "492b1c23-2a54-4911-902e-6b77c4a8eadb",
   "metadata": {},
   "outputs": [
    {
     "data": {
      "text/plain": [
       "39295.70121381886"
      ]
     },
     "execution_count": 75,
     "metadata": {},
     "output_type": "execute_result"
    }
   ],
   "source": [
    "income_mean = df2['income'].mean()\n",
    "income_mean"
   ]
  },
  {
   "cell_type": "code",
   "execution_count": 79,
   "id": "56a261de-0ffe-440e-857b-ae68116b1738",
   "metadata": {},
   "outputs": [],
   "source": [
    "personal_auto = df2.loc[df['policy_type'] == 'Personal Auto']\n",
    "corporate_auto = df2.loc[df['policy_type'] == 'Corporate Auto']"
   ]
  },
  {
   "cell_type": "code",
   "execution_count": 86,
   "id": "c2ef84a6-0815-4f5a-b86a-4feefcf0c5ac",
   "metadata": {},
   "outputs": [
    {
     "name": "stdout",
     "output_type": "stream",
     "text": [
      "Average income for Personal Auto policies: 38180.7\n",
      "Average income for Corporate Auto policies: 41390.31\n"
     ]
    }
   ],
   "source": [
    "income_personal_auto = personal_auto['income'].mean()\n",
    "income_corporate_auto = corporate_auto['income'].mean()\n",
    "print(f\"Average income for Personal Auto policies: {round(income_personal_auto,2)}\")\n",
    "print(f\"Average income for Corporate Auto policies: {round(income_corporate_auto,2)}\")"
   ]
  },
  {
   "cell_type": "code",
   "execution_count": 84,
   "id": "67974b54-fd6a-4592-b4c9-cfeb36d38bf3",
   "metadata": {},
   "outputs": [
    {
     "data": {
      "text/plain": [
       "38180.7"
      ]
     },
     "execution_count": 84,
     "metadata": {},
     "output_type": "execute_result"
    }
   ],
   "source": [
    "round(income_personal_auto,2)"
   ]
  },
  {
   "cell_type": "code",
   "execution_count": 85,
   "id": "766f51e2-e089-437c-9428-1f697a9bcaec",
   "metadata": {},
   "outputs": [
    {
     "data": {
      "text/plain": [
       "41390.31"
      ]
     },
     "execution_count": 85,
     "metadata": {},
     "output_type": "execute_result"
    }
   ],
   "source": [
    "round(income_corporate_auto,2)"
   ]
  },
  {
   "cell_type": "code",
   "execution_count": 72,
   "id": "e67f2e29-3e97-4edf-ac40-91365313d8ad",
   "metadata": {},
   "outputs": [
    {
     "name": "stdout",
     "output_type": "stream",
     "text": [
      "<class 'pandas.core.frame.DataFrame'>\n",
      "RangeIndex: 4008 entries, 0 to 4007\n",
      "Data columns (total 11 columns):\n",
      " #   Column                     Non-Null Count  Dtype  \n",
      "---  ------                     --------------  -----  \n",
      " 0   customer                   1071 non-null   object \n",
      " 1   st                         1071 non-null   object \n",
      " 2   gender                     954 non-null    object \n",
      " 3   education                  1071 non-null   object \n",
      " 4   customer_lifetime_value    1068 non-null   object \n",
      " 5   income                     1071 non-null   float64\n",
      " 6   monthly_premium_auto       1071 non-null   float64\n",
      " 7   number_of_open_complaints  1071 non-null   object \n",
      " 8   policy_type                1071 non-null   object \n",
      " 9   vehicle_class              1071 non-null   object \n",
      " 10  total_claim_amount         1071 non-null   float64\n",
      "dtypes: float64(3), object(8)\n",
      "memory usage: 344.6+ KB\n"
     ]
    }
   ],
   "source": [
    "df.info()"
   ]
  },
  {
   "cell_type": "code",
   "execution_count": null,
   "id": "15643428-3f42-4cbd-9107-97697836931e",
   "metadata": {},
   "outputs": [],
   "source": []
  },
  {
   "cell_type": "code",
   "execution_count": null,
   "id": "e1f303e2-b061-4fd1-9ff1-010bb40a1e01",
   "metadata": {},
   "outputs": [],
   "source": []
  },
  {
   "cell_type": "code",
   "execution_count": null,
   "id": "0b7597fc-9a84-4247-89dc-f8821fdf5e05",
   "metadata": {},
   "outputs": [],
   "source": []
  },
  {
   "cell_type": "markdown",
   "id": "80b16c27-f4a5-4727-a229-1f88671cf4e2",
   "metadata": {},
   "source": [
    "### Bonus: Exercise 4\n"
   ]
  },
  {
   "cell_type": "markdown",
   "id": "ac584986-299b-475f-ac2e-928c16c3f512",
   "metadata": {},
   "source": [
    "Your goal is to identify customers with a high policy claim amount.\n",
    "\n",
    "Instructions:\n",
    "\n",
    "- Review again the statistics for total claim amount to gain an understanding of the data.\n",
    "- To identify potential areas for improving customer retention and profitability, we want to focus on customers with a high policy claim amount. Consider customers with a high policy claim amount to be those in the top 25% of the total claim amount. Create a pandas DataFrame object that contains information about customers with a policy claim amount greater than the 75th percentile.\n",
    "- Use DataFrame methods to calculate summary statistics about the high policy claim amount data. "
   ]
  },
  {
   "cell_type": "markdown",
   "id": "4e3af5f1-6023-4b05-9c01-d05392daa650",
   "metadata": {},
   "source": [
    "*Note: When analyzing data, we often want to focus on certain groups of values to gain insights. Percentiles are a useful tool to help us define these groups. A percentile is a measure that tells us what percentage of values in a dataset are below a certain value. For example, the 75th percentile represents the value below which 75% of the data falls. Similarly, the 25th percentile represents the value below which 25% of the data falls. When we talk about the top 25%, we are referring to the values that fall above the 75th percentile, which represent the top quarter of the data. On the other hand, when we talk about the bottom 25%, we are referring to the values that fall below the 25th percentile, which represent the bottom quarter of the data. By focusing on these groups, we can identify patterns and trends that may be useful for making decisions and taking action.*\n",
    "\n",
    "*Hint: look for a method that gives you the percentile or quantile 0.75 and 0.25 for a Pandas Series.*"
   ]
  },
  {
   "cell_type": "markdown",
   "id": "2d234634-50bd-41e0-88f7-d5ba684455d1",
   "metadata": {},
   "source": [
    "*Hint 2: check `Boolean selection according to the values of a single column` in https://towardsdatascience.com/filtering-data-frames-in-pandas-b570b1f834b9*"
   ]
  },
  {
   "cell_type": "code",
   "execution_count": null,
   "id": "b731bca6-a760-4860-a27b-a33efa712ce0",
   "metadata": {},
   "outputs": [],
   "source": [
    "# Your code here"
   ]
  }
 ],
 "metadata": {
  "kernelspec": {
   "display_name": "Python 3 (ipykernel)",
   "language": "python",
   "name": "python3"
  },
  "language_info": {
   "codemirror_mode": {
    "name": "ipython",
    "version": 3
   },
   "file_extension": ".py",
   "mimetype": "text/x-python",
   "name": "python",
   "nbconvert_exporter": "python",
   "pygments_lexer": "ipython3",
   "version": "3.11.7"
  }
 },
 "nbformat": 4,
 "nbformat_minor": 5
}
